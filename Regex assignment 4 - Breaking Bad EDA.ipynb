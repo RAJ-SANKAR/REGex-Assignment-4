{
 "cells": [
  {
   "cell_type": "markdown",
   "id": "811fd914",
   "metadata": {},
   "source": [
    "# TASK 4 - Exploratory Data Analysis on Breaking Bad\n",
    "\n",
    "Registration ID : SIRSS2140\n",
    "    \n",
    "RAJ SANKAR GS"
   ]
  },
  {
   "cell_type": "code",
   "execution_count": 1,
   "id": "91fec1f0",
   "metadata": {},
   "outputs": [],
   "source": [
    "import pandas as pd\n",
    "import numpy as np \n",
    "import seaborn as sns\n",
    "import matplotlib.pyplot as plt\n",
    "%matplotlib inline\n",
    "\n",
    "import warnings\n",
    "warnings.filterwarnings('ignore')"
   ]
  },
  {
   "cell_type": "code",
   "execution_count": 2,
   "id": "39bf9092",
   "metadata": {},
   "outputs": [],
   "source": [
    "brba_epi = pd.read_csv(\"breaking bad.csv\")\n",
    "brba_char = pd.read_csv(\"episodes.csv\")"
   ]
  },
  {
   "cell_type": "markdown",
   "id": "dfc416fc",
   "metadata": {},
   "source": [
    "# Data Analysis On BrBa Episode Data Set"
   ]
  },
  {
   "cell_type": "code",
   "execution_count": 3,
   "id": "d6407deb",
   "metadata": {},
   "outputs": [
    {
     "data": {
      "text/html": [
       "<div>\n",
       "<style scoped>\n",
       "    .dataframe tbody tr th:only-of-type {\n",
       "        vertical-align: middle;\n",
       "    }\n",
       "\n",
       "    .dataframe tbody tr th {\n",
       "        vertical-align: top;\n",
       "    }\n",
       "\n",
       "    .dataframe thead th {\n",
       "        text-align: right;\n",
       "    }\n",
       "</style>\n",
       "<table border=\"1\" class=\"dataframe\">\n",
       "  <thead>\n",
       "    <tr style=\"text-align: right;\">\n",
       "      <th></th>\n",
       "      <th>Season</th>\n",
       "      <th>Episode</th>\n",
       "      <th>Duration_mins</th>\n",
       "      <th>Rating_IMDB</th>\n",
       "      <th>U.S. viewers_million</th>\n",
       "    </tr>\n",
       "  </thead>\n",
       "  <tbody>\n",
       "    <tr>\n",
       "      <th>count</th>\n",
       "      <td>62.000000</td>\n",
       "      <td>62.000000</td>\n",
       "      <td>62.000000</td>\n",
       "      <td>62.000000</td>\n",
       "      <td>57.000000</td>\n",
       "    </tr>\n",
       "    <tr>\n",
       "      <th>mean</th>\n",
       "      <td>3.290323</td>\n",
       "      <td>7.048387</td>\n",
       "      <td>47.919355</td>\n",
       "      <td>9.022581</td>\n",
       "      <td>2.324386</td>\n",
       "    </tr>\n",
       "    <tr>\n",
       "      <th>std</th>\n",
       "      <td>1.359690</td>\n",
       "      <td>4.074822</td>\n",
       "      <td>2.632074</td>\n",
       "      <td>0.511962</td>\n",
       "      <td>1.719224</td>\n",
       "    </tr>\n",
       "    <tr>\n",
       "      <th>min</th>\n",
       "      <td>1.000000</td>\n",
       "      <td>1.000000</td>\n",
       "      <td>43.000000</td>\n",
       "      <td>7.800000</td>\n",
       "      <td>0.970000</td>\n",
       "    </tr>\n",
       "    <tr>\n",
       "      <th>25%</th>\n",
       "      <td>2.000000</td>\n",
       "      <td>4.000000</td>\n",
       "      <td>47.000000</td>\n",
       "      <td>8.700000</td>\n",
       "      <td>1.460000</td>\n",
       "    </tr>\n",
       "    <tr>\n",
       "      <th>50%</th>\n",
       "      <td>3.000000</td>\n",
       "      <td>7.000000</td>\n",
       "      <td>47.000000</td>\n",
       "      <td>8.900000</td>\n",
       "      <td>1.710000</td>\n",
       "    </tr>\n",
       "    <tr>\n",
       "      <th>75%</th>\n",
       "      <td>4.750000</td>\n",
       "      <td>10.000000</td>\n",
       "      <td>48.000000</td>\n",
       "      <td>9.450000</td>\n",
       "      <td>2.290000</td>\n",
       "    </tr>\n",
       "    <tr>\n",
       "      <th>max</th>\n",
       "      <td>5.000000</td>\n",
       "      <td>16.000000</td>\n",
       "      <td>60.000000</td>\n",
       "      <td>10.000000</td>\n",
       "      <td>10.280000</td>\n",
       "    </tr>\n",
       "  </tbody>\n",
       "</table>\n",
       "</div>"
      ],
      "text/plain": [
       "          Season    Episode  Duration_mins  Rating_IMDB  U.S. viewers_million\n",
       "count  62.000000  62.000000      62.000000    62.000000             57.000000\n",
       "mean    3.290323   7.048387      47.919355     9.022581              2.324386\n",
       "std     1.359690   4.074822       2.632074     0.511962              1.719224\n",
       "min     1.000000   1.000000      43.000000     7.800000              0.970000\n",
       "25%     2.000000   4.000000      47.000000     8.700000              1.460000\n",
       "50%     3.000000   7.000000      47.000000     8.900000              1.710000\n",
       "75%     4.750000  10.000000      48.000000     9.450000              2.290000\n",
       "max     5.000000  16.000000      60.000000    10.000000             10.280000"
      ]
     },
     "execution_count": 3,
     "metadata": {},
     "output_type": "execute_result"
    }
   ],
   "source": [
    "brba_epi.describe()"
   ]
  },
  {
   "cell_type": "code",
   "execution_count": 4,
   "id": "1dabad5c",
   "metadata": {},
   "outputs": [
    {
     "data": {
      "text/plain": [
       "Index(['Date', 'Season', 'Episode', 'Title', 'Directed by', 'Written by',\n",
       "       'Duration_mins', 'Summary', 'Rating_IMDB', 'U.S. viewers_million'],\n",
       "      dtype='object')"
      ]
     },
     "execution_count": 4,
     "metadata": {},
     "output_type": "execute_result"
    }
   ],
   "source": [
    "brba_epi.columns"
   ]
  },
  {
   "cell_type": "code",
   "execution_count": 5,
   "id": "874f2197",
   "metadata": {},
   "outputs": [
    {
     "data": {
      "text/plain": [
       "Date                     object\n",
       "Season                    int64\n",
       "Episode                   int64\n",
       "Title                    object\n",
       "Directed by              object\n",
       "Written by               object\n",
       "Duration_mins             int64\n",
       "Summary                  object\n",
       "Rating_IMDB             float64\n",
       "U.S. viewers_million    float64\n",
       "dtype: object"
      ]
     },
     "execution_count": 5,
     "metadata": {},
     "output_type": "execute_result"
    }
   ],
   "source": [
    "brba_epi.dtypes"
   ]
  },
  {
   "cell_type": "code",
   "execution_count": 6,
   "id": "ad4c40c4",
   "metadata": {},
   "outputs": [
    {
     "data": {
      "text/html": [
       "<div>\n",
       "<style scoped>\n",
       "    .dataframe tbody tr th:only-of-type {\n",
       "        vertical-align: middle;\n",
       "    }\n",
       "\n",
       "    .dataframe tbody tr th {\n",
       "        vertical-align: top;\n",
       "    }\n",
       "\n",
       "    .dataframe thead th {\n",
       "        text-align: right;\n",
       "    }\n",
       "</style>\n",
       "<table border=\"1\" class=\"dataframe\">\n",
       "  <thead>\n",
       "    <tr style=\"text-align: right;\">\n",
       "      <th></th>\n",
       "      <th>Season</th>\n",
       "      <th>Episode</th>\n",
       "      <th>Duration_mins</th>\n",
       "      <th>Rating_IMDB</th>\n",
       "      <th>U.S. viewers_million</th>\n",
       "    </tr>\n",
       "  </thead>\n",
       "  <tbody>\n",
       "    <tr>\n",
       "      <th>0</th>\n",
       "      <td>1</td>\n",
       "      <td>1</td>\n",
       "      <td>58</td>\n",
       "      <td>9.1</td>\n",
       "      <td>1.41</td>\n",
       "    </tr>\n",
       "    <tr>\n",
       "      <th>1</th>\n",
       "      <td>1</td>\n",
       "      <td>2</td>\n",
       "      <td>48</td>\n",
       "      <td>8.7</td>\n",
       "      <td>1.49</td>\n",
       "    </tr>\n",
       "    <tr>\n",
       "      <th>2</th>\n",
       "      <td>1</td>\n",
       "      <td>3</td>\n",
       "      <td>48</td>\n",
       "      <td>8.8</td>\n",
       "      <td>1.08</td>\n",
       "    </tr>\n",
       "    <tr>\n",
       "      <th>3</th>\n",
       "      <td>1</td>\n",
       "      <td>4</td>\n",
       "      <td>48</td>\n",
       "      <td>8.3</td>\n",
       "      <td>1.09</td>\n",
       "    </tr>\n",
       "    <tr>\n",
       "      <th>4</th>\n",
       "      <td>1</td>\n",
       "      <td>5</td>\n",
       "      <td>48</td>\n",
       "      <td>8.4</td>\n",
       "      <td>0.97</td>\n",
       "    </tr>\n",
       "    <tr>\n",
       "      <th>...</th>\n",
       "      <td>...</td>\n",
       "      <td>...</td>\n",
       "      <td>...</td>\n",
       "      <td>...</td>\n",
       "      <td>...</td>\n",
       "    </tr>\n",
       "    <tr>\n",
       "      <th>57</th>\n",
       "      <td>5</td>\n",
       "      <td>12</td>\n",
       "      <td>48</td>\n",
       "      <td>9.2</td>\n",
       "      <td>4.41</td>\n",
       "    </tr>\n",
       "    <tr>\n",
       "      <th>58</th>\n",
       "      <td>5</td>\n",
       "      <td>13</td>\n",
       "      <td>47</td>\n",
       "      <td>9.8</td>\n",
       "      <td>5.11</td>\n",
       "    </tr>\n",
       "    <tr>\n",
       "      <th>59</th>\n",
       "      <td>5</td>\n",
       "      <td>14</td>\n",
       "      <td>48</td>\n",
       "      <td>10.0</td>\n",
       "      <td>6.37</td>\n",
       "    </tr>\n",
       "    <tr>\n",
       "      <th>60</th>\n",
       "      <td>5</td>\n",
       "      <td>15</td>\n",
       "      <td>55</td>\n",
       "      <td>9.7</td>\n",
       "      <td>6.58</td>\n",
       "    </tr>\n",
       "    <tr>\n",
       "      <th>61</th>\n",
       "      <td>5</td>\n",
       "      <td>16</td>\n",
       "      <td>55</td>\n",
       "      <td>9.9</td>\n",
       "      <td>10.28</td>\n",
       "    </tr>\n",
       "  </tbody>\n",
       "</table>\n",
       "<p>62 rows × 5 columns</p>\n",
       "</div>"
      ],
      "text/plain": [
       "    Season  Episode  Duration_mins  Rating_IMDB  U.S. viewers_million\n",
       "0        1        1             58          9.1                  1.41\n",
       "1        1        2             48          8.7                  1.49\n",
       "2        1        3             48          8.8                  1.08\n",
       "3        1        4             48          8.3                  1.09\n",
       "4        1        5             48          8.4                  0.97\n",
       "..     ...      ...            ...          ...                   ...\n",
       "57       5       12             48          9.2                  4.41\n",
       "58       5       13             47          9.8                  5.11\n",
       "59       5       14             48         10.0                  6.37\n",
       "60       5       15             55          9.7                  6.58\n",
       "61       5       16             55          9.9                 10.28\n",
       "\n",
       "[62 rows x 5 columns]"
      ]
     },
     "execution_count": 6,
     "metadata": {},
     "output_type": "execute_result"
    }
   ],
   "source": [
    "brba_epi.select_dtypes(include=['number'])"
   ]
  },
  {
   "cell_type": "code",
   "execution_count": 7,
   "id": "fcb033d5",
   "metadata": {},
   "outputs": [
    {
     "data": {
      "text/html": [
       "<div>\n",
       "<style scoped>\n",
       "    .dataframe tbody tr th:only-of-type {\n",
       "        vertical-align: middle;\n",
       "    }\n",
       "\n",
       "    .dataframe tbody tr th {\n",
       "        vertical-align: top;\n",
       "    }\n",
       "\n",
       "    .dataframe thead th {\n",
       "        text-align: right;\n",
       "    }\n",
       "</style>\n",
       "<table border=\"1\" class=\"dataframe\">\n",
       "  <thead>\n",
       "    <tr style=\"text-align: right;\">\n",
       "      <th></th>\n",
       "      <th>Date</th>\n",
       "      <th>Title</th>\n",
       "      <th>Directed by</th>\n",
       "      <th>Written by</th>\n",
       "      <th>Summary</th>\n",
       "    </tr>\n",
       "  </thead>\n",
       "  <tbody>\n",
       "    <tr>\n",
       "      <th>0</th>\n",
       "      <td>20-Jan-08</td>\n",
       "      <td>Pilot</td>\n",
       "      <td>Vince Gilligan</td>\n",
       "      <td>Vince Gilligan</td>\n",
       "      <td>Diagnosed with terminal lung cancer, chemistry...</td>\n",
       "    </tr>\n",
       "    <tr>\n",
       "      <th>1</th>\n",
       "      <td>27-Jan-08</td>\n",
       "      <td>Cat's in the Bag...</td>\n",
       "      <td>Adam Bernstein</td>\n",
       "      <td>Vince Gilligan</td>\n",
       "      <td>After their first drug deal goes terribly wron...</td>\n",
       "    </tr>\n",
       "    <tr>\n",
       "      <th>2</th>\n",
       "      <td>10-Feb-08</td>\n",
       "      <td>...And the Bag's in the River</td>\n",
       "      <td>Adam Bernstein</td>\n",
       "      <td>Vince Gilligan</td>\n",
       "      <td>Walt and Jesse clean up after the bathtub inci...</td>\n",
       "    </tr>\n",
       "    <tr>\n",
       "      <th>3</th>\n",
       "      <td>17-Feb-08</td>\n",
       "      <td>Cancer Man</td>\n",
       "      <td>Jim McKay</td>\n",
       "      <td>Vince Gilligan</td>\n",
       "      <td>Walt tells the rest of his family about his ca...</td>\n",
       "    </tr>\n",
       "    <tr>\n",
       "      <th>4</th>\n",
       "      <td>24-Feb-08</td>\n",
       "      <td>Gray Matter</td>\n",
       "      <td>Tricia Brock</td>\n",
       "      <td>Vince Gilligan, Patty Lin</td>\n",
       "      <td>Walt rejects everyone who tries to help him wi...</td>\n",
       "    </tr>\n",
       "    <tr>\n",
       "      <th>...</th>\n",
       "      <td>...</td>\n",
       "      <td>...</td>\n",
       "      <td>...</td>\n",
       "      <td>...</td>\n",
       "      <td>...</td>\n",
       "    </tr>\n",
       "    <tr>\n",
       "      <th>57</th>\n",
       "      <td>01-Sep-13</td>\n",
       "      <td>Rabid Dog</td>\n",
       "      <td>Sam Catlin</td>\n",
       "      <td>Vince Gilligan, Sam Catlin</td>\n",
       "      <td>Walt discovers Jesse broke into his house and ...</td>\n",
       "    </tr>\n",
       "    <tr>\n",
       "      <th>58</th>\n",
       "      <td>08-Sep-13</td>\n",
       "      <td>To'hajiilee</td>\n",
       "      <td>Michelle MacLaren</td>\n",
       "      <td>Vince Gilligan, George Mastras</td>\n",
       "      <td>Jesse and Hank come up with an idea to take Wa...</td>\n",
       "    </tr>\n",
       "    <tr>\n",
       "      <th>59</th>\n",
       "      <td>15-Sep-13</td>\n",
       "      <td>Ozymandias</td>\n",
       "      <td>Rian Johnson</td>\n",
       "      <td>Vince Gilligan, Moira Walley-Beckett</td>\n",
       "      <td>Walt goes on the run. Jesse is taken hostage. ...</td>\n",
       "    </tr>\n",
       "    <tr>\n",
       "      <th>60</th>\n",
       "      <td>22-Sep-13</td>\n",
       "      <td>Granite State</td>\n",
       "      <td>Peter Gould</td>\n",
       "      <td>Vince Gilligan, Peter Gould</td>\n",
       "      <td>Walt struggles as he adapts to aspects of his ...</td>\n",
       "    </tr>\n",
       "    <tr>\n",
       "      <th>61</th>\n",
       "      <td>29-Sep-13</td>\n",
       "      <td>Felina</td>\n",
       "      <td>Vince Gilligan</td>\n",
       "      <td>Vince Gilligan</td>\n",
       "      <td>Walter White makes one last attempt to secure ...</td>\n",
       "    </tr>\n",
       "  </tbody>\n",
       "</table>\n",
       "<p>62 rows × 5 columns</p>\n",
       "</div>"
      ],
      "text/plain": [
       "         Date                          Title        Directed by  \\\n",
       "0   20-Jan-08                          Pilot     Vince Gilligan   \n",
       "1   27-Jan-08            Cat's in the Bag...     Adam Bernstein   \n",
       "2   10-Feb-08  ...And the Bag's in the River     Adam Bernstein   \n",
       "3   17-Feb-08                     Cancer Man          Jim McKay   \n",
       "4   24-Feb-08                    Gray Matter       Tricia Brock   \n",
       "..        ...                            ...                ...   \n",
       "57  01-Sep-13                      Rabid Dog         Sam Catlin   \n",
       "58  08-Sep-13                    To'hajiilee  Michelle MacLaren   \n",
       "59  15-Sep-13                     Ozymandias       Rian Johnson   \n",
       "60  22-Sep-13                  Granite State        Peter Gould   \n",
       "61  29-Sep-13                         Felina     Vince Gilligan   \n",
       "\n",
       "                              Written by  \\\n",
       "0                         Vince Gilligan   \n",
       "1                         Vince Gilligan   \n",
       "2                         Vince Gilligan   \n",
       "3                         Vince Gilligan   \n",
       "4              Vince Gilligan, Patty Lin   \n",
       "..                                   ...   \n",
       "57            Vince Gilligan, Sam Catlin   \n",
       "58        Vince Gilligan, George Mastras   \n",
       "59  Vince Gilligan, Moira Walley-Beckett   \n",
       "60           Vince Gilligan, Peter Gould   \n",
       "61                        Vince Gilligan   \n",
       "\n",
       "                                              Summary  \n",
       "0   Diagnosed with terminal lung cancer, chemistry...  \n",
       "1   After their first drug deal goes terribly wron...  \n",
       "2   Walt and Jesse clean up after the bathtub inci...  \n",
       "3   Walt tells the rest of his family about his ca...  \n",
       "4   Walt rejects everyone who tries to help him wi...  \n",
       "..                                                ...  \n",
       "57  Walt discovers Jesse broke into his house and ...  \n",
       "58  Jesse and Hank come up with an idea to take Wa...  \n",
       "59  Walt goes on the run. Jesse is taken hostage. ...  \n",
       "60  Walt struggles as he adapts to aspects of his ...  \n",
       "61  Walter White makes one last attempt to secure ...  \n",
       "\n",
       "[62 rows x 5 columns]"
      ]
     },
     "execution_count": 7,
     "metadata": {},
     "output_type": "execute_result"
    }
   ],
   "source": [
    "brba_epi.select_dtypes(include=['object'])"
   ]
  },
  {
   "cell_type": "code",
   "execution_count": 8,
   "id": "6837aec2",
   "metadata": {},
   "outputs": [
    {
     "data": {
      "text/html": [
       "<div>\n",
       "<style scoped>\n",
       "    .dataframe tbody tr th:only-of-type {\n",
       "        vertical-align: middle;\n",
       "    }\n",
       "\n",
       "    .dataframe tbody tr th {\n",
       "        vertical-align: top;\n",
       "    }\n",
       "\n",
       "    .dataframe thead th {\n",
       "        text-align: right;\n",
       "    }\n",
       "</style>\n",
       "<table border=\"1\" class=\"dataframe\">\n",
       "  <thead>\n",
       "    <tr style=\"text-align: right;\">\n",
       "      <th></th>\n",
       "      <th>Date</th>\n",
       "      <th>Season</th>\n",
       "      <th>Episode</th>\n",
       "      <th>Title</th>\n",
       "      <th>Directed by</th>\n",
       "      <th>Written by</th>\n",
       "      <th>Duration_mins</th>\n",
       "      <th>Summary</th>\n",
       "      <th>Rating_IMDB</th>\n",
       "      <th>U.S. viewers_million</th>\n",
       "    </tr>\n",
       "  </thead>\n",
       "  <tbody>\n",
       "    <tr>\n",
       "      <th>0</th>\n",
       "      <td>20-Jan-08</td>\n",
       "      <td>1</td>\n",
       "      <td>1</td>\n",
       "      <td>Pilot</td>\n",
       "      <td>Vince Gilligan</td>\n",
       "      <td>Vince Gilligan</td>\n",
       "      <td>58</td>\n",
       "      <td>Diagnosed with terminal lung cancer, chemistry...</td>\n",
       "      <td>9.1</td>\n",
       "      <td>1.41</td>\n",
       "    </tr>\n",
       "    <tr>\n",
       "      <th>1</th>\n",
       "      <td>27-Jan-08</td>\n",
       "      <td>1</td>\n",
       "      <td>2</td>\n",
       "      <td>Cat's in the Bag...</td>\n",
       "      <td>Adam Bernstein</td>\n",
       "      <td>Vince Gilligan</td>\n",
       "      <td>48</td>\n",
       "      <td>After their first drug deal goes terribly wron...</td>\n",
       "      <td>8.7</td>\n",
       "      <td>1.49</td>\n",
       "    </tr>\n",
       "    <tr>\n",
       "      <th>2</th>\n",
       "      <td>10-Feb-08</td>\n",
       "      <td>1</td>\n",
       "      <td>3</td>\n",
       "      <td>...And the Bag's in the River</td>\n",
       "      <td>Adam Bernstein</td>\n",
       "      <td>Vince Gilligan</td>\n",
       "      <td>48</td>\n",
       "      <td>Walt and Jesse clean up after the bathtub inci...</td>\n",
       "      <td>8.8</td>\n",
       "      <td>1.08</td>\n",
       "    </tr>\n",
       "    <tr>\n",
       "      <th>3</th>\n",
       "      <td>17-Feb-08</td>\n",
       "      <td>1</td>\n",
       "      <td>4</td>\n",
       "      <td>Cancer Man</td>\n",
       "      <td>Jim McKay</td>\n",
       "      <td>Vince Gilligan</td>\n",
       "      <td>48</td>\n",
       "      <td>Walt tells the rest of his family about his ca...</td>\n",
       "      <td>8.3</td>\n",
       "      <td>1.09</td>\n",
       "    </tr>\n",
       "    <tr>\n",
       "      <th>4</th>\n",
       "      <td>24-Feb-08</td>\n",
       "      <td>1</td>\n",
       "      <td>5</td>\n",
       "      <td>Gray Matter</td>\n",
       "      <td>Tricia Brock</td>\n",
       "      <td>Vince Gilligan, Patty Lin</td>\n",
       "      <td>48</td>\n",
       "      <td>Walt rejects everyone who tries to help him wi...</td>\n",
       "      <td>8.4</td>\n",
       "      <td>0.97</td>\n",
       "    </tr>\n",
       "  </tbody>\n",
       "</table>\n",
       "</div>"
      ],
      "text/plain": [
       "        Date  Season  Episode                          Title     Directed by  \\\n",
       "0  20-Jan-08       1        1                          Pilot  Vince Gilligan   \n",
       "1  27-Jan-08       1        2            Cat's in the Bag...  Adam Bernstein   \n",
       "2  10-Feb-08       1        3  ...And the Bag's in the River  Adam Bernstein   \n",
       "3  17-Feb-08       1        4                     Cancer Man       Jim McKay   \n",
       "4  24-Feb-08       1        5                    Gray Matter    Tricia Brock   \n",
       "\n",
       "                  Written by  Duration_mins  \\\n",
       "0             Vince Gilligan             58   \n",
       "1             Vince Gilligan             48   \n",
       "2             Vince Gilligan             48   \n",
       "3             Vince Gilligan             48   \n",
       "4  Vince Gilligan, Patty Lin             48   \n",
       "\n",
       "                                             Summary  Rating_IMDB  \\\n",
       "0  Diagnosed with terminal lung cancer, chemistry...          9.1   \n",
       "1  After their first drug deal goes terribly wron...          8.7   \n",
       "2  Walt and Jesse clean up after the bathtub inci...          8.8   \n",
       "3  Walt tells the rest of his family about his ca...          8.3   \n",
       "4  Walt rejects everyone who tries to help him wi...          8.4   \n",
       "\n",
       "   U.S. viewers_million  \n",
       "0                  1.41  \n",
       "1                  1.49  \n",
       "2                  1.08  \n",
       "3                  1.09  \n",
       "4                  0.97  "
      ]
     },
     "execution_count": 8,
     "metadata": {},
     "output_type": "execute_result"
    }
   ],
   "source": [
    "brba_epi.head(5)"
   ]
  },
  {
   "cell_type": "code",
   "execution_count": 9,
   "id": "e9d3cb9e",
   "metadata": {},
   "outputs": [
    {
     "data": {
      "text/html": [
       "<div>\n",
       "<style scoped>\n",
       "    .dataframe tbody tr th:only-of-type {\n",
       "        vertical-align: middle;\n",
       "    }\n",
       "\n",
       "    .dataframe tbody tr th {\n",
       "        vertical-align: top;\n",
       "    }\n",
       "\n",
       "    .dataframe thead th {\n",
       "        text-align: right;\n",
       "    }\n",
       "</style>\n",
       "<table border=\"1\" class=\"dataframe\">\n",
       "  <thead>\n",
       "    <tr style=\"text-align: right;\">\n",
       "      <th></th>\n",
       "      <th>Date</th>\n",
       "      <th>Season</th>\n",
       "      <th>Episode</th>\n",
       "      <th>Title</th>\n",
       "      <th>Directed by</th>\n",
       "      <th>Written by</th>\n",
       "      <th>Duration_mins</th>\n",
       "      <th>Summary</th>\n",
       "      <th>Rating_IMDB</th>\n",
       "      <th>U.S. viewers_million</th>\n",
       "    </tr>\n",
       "  </thead>\n",
       "  <tbody>\n",
       "    <tr>\n",
       "      <th>57</th>\n",
       "      <td>01-Sep-13</td>\n",
       "      <td>5</td>\n",
       "      <td>12</td>\n",
       "      <td>Rabid Dog</td>\n",
       "      <td>Sam Catlin</td>\n",
       "      <td>Vince Gilligan, Sam Catlin</td>\n",
       "      <td>48</td>\n",
       "      <td>Walt discovers Jesse broke into his house and ...</td>\n",
       "      <td>9.2</td>\n",
       "      <td>4.41</td>\n",
       "    </tr>\n",
       "    <tr>\n",
       "      <th>58</th>\n",
       "      <td>08-Sep-13</td>\n",
       "      <td>5</td>\n",
       "      <td>13</td>\n",
       "      <td>To'hajiilee</td>\n",
       "      <td>Michelle MacLaren</td>\n",
       "      <td>Vince Gilligan, George Mastras</td>\n",
       "      <td>47</td>\n",
       "      <td>Jesse and Hank come up with an idea to take Wa...</td>\n",
       "      <td>9.8</td>\n",
       "      <td>5.11</td>\n",
       "    </tr>\n",
       "    <tr>\n",
       "      <th>59</th>\n",
       "      <td>15-Sep-13</td>\n",
       "      <td>5</td>\n",
       "      <td>14</td>\n",
       "      <td>Ozymandias</td>\n",
       "      <td>Rian Johnson</td>\n",
       "      <td>Vince Gilligan, Moira Walley-Beckett</td>\n",
       "      <td>48</td>\n",
       "      <td>Walt goes on the run. Jesse is taken hostage. ...</td>\n",
       "      <td>10.0</td>\n",
       "      <td>6.37</td>\n",
       "    </tr>\n",
       "    <tr>\n",
       "      <th>60</th>\n",
       "      <td>22-Sep-13</td>\n",
       "      <td>5</td>\n",
       "      <td>15</td>\n",
       "      <td>Granite State</td>\n",
       "      <td>Peter Gould</td>\n",
       "      <td>Vince Gilligan, Peter Gould</td>\n",
       "      <td>55</td>\n",
       "      <td>Walt struggles as he adapts to aspects of his ...</td>\n",
       "      <td>9.7</td>\n",
       "      <td>6.58</td>\n",
       "    </tr>\n",
       "    <tr>\n",
       "      <th>61</th>\n",
       "      <td>29-Sep-13</td>\n",
       "      <td>5</td>\n",
       "      <td>16</td>\n",
       "      <td>Felina</td>\n",
       "      <td>Vince Gilligan</td>\n",
       "      <td>Vince Gilligan</td>\n",
       "      <td>55</td>\n",
       "      <td>Walter White makes one last attempt to secure ...</td>\n",
       "      <td>9.9</td>\n",
       "      <td>10.28</td>\n",
       "    </tr>\n",
       "  </tbody>\n",
       "</table>\n",
       "</div>"
      ],
      "text/plain": [
       "         Date  Season  Episode          Title        Directed by  \\\n",
       "57  01-Sep-13       5       12      Rabid Dog         Sam Catlin   \n",
       "58  08-Sep-13       5       13    To'hajiilee  Michelle MacLaren   \n",
       "59  15-Sep-13       5       14     Ozymandias       Rian Johnson   \n",
       "60  22-Sep-13       5       15  Granite State        Peter Gould   \n",
       "61  29-Sep-13       5       16         Felina     Vince Gilligan   \n",
       "\n",
       "                              Written by  Duration_mins  \\\n",
       "57            Vince Gilligan, Sam Catlin             48   \n",
       "58        Vince Gilligan, George Mastras             47   \n",
       "59  Vince Gilligan, Moira Walley-Beckett             48   \n",
       "60           Vince Gilligan, Peter Gould             55   \n",
       "61                        Vince Gilligan             55   \n",
       "\n",
       "                                              Summary  Rating_IMDB  \\\n",
       "57  Walt discovers Jesse broke into his house and ...          9.2   \n",
       "58  Jesse and Hank come up with an idea to take Wa...          9.8   \n",
       "59  Walt goes on the run. Jesse is taken hostage. ...         10.0   \n",
       "60  Walt struggles as he adapts to aspects of his ...          9.7   \n",
       "61  Walter White makes one last attempt to secure ...          9.9   \n",
       "\n",
       "    U.S. viewers_million  \n",
       "57                  4.41  \n",
       "58                  5.11  \n",
       "59                  6.37  \n",
       "60                  6.58  \n",
       "61                 10.28  "
      ]
     },
     "execution_count": 9,
     "metadata": {},
     "output_type": "execute_result"
    }
   ],
   "source": [
    "brba_epi.tail(5)"
   ]
  },
  {
   "cell_type": "code",
   "execution_count": 10,
   "id": "c848a141",
   "metadata": {},
   "outputs": [
    {
     "data": {
      "text/plain": [
       "0"
      ]
     },
     "execution_count": 10,
     "metadata": {},
     "output_type": "execute_result"
    }
   ],
   "source": [
    "brba_epi.duplicated().sum()"
   ]
  },
  {
   "cell_type": "code",
   "execution_count": 11,
   "id": "d876c85b",
   "metadata": {},
   "outputs": [
    {
     "data": {
      "text/plain": [
       "Date                    0\n",
       "Season                  0\n",
       "Episode                 0\n",
       "Title                   0\n",
       "Directed by             0\n",
       "Written by              0\n",
       "Duration_mins           0\n",
       "Summary                 0\n",
       "Rating_IMDB             0\n",
       "U.S. viewers_million    5\n",
       "dtype: int64"
      ]
     },
     "execution_count": 11,
     "metadata": {},
     "output_type": "execute_result"
    }
   ],
   "source": [
    "brba_epi.isnull().sum()"
   ]
  },
  {
   "cell_type": "code",
   "execution_count": 12,
   "id": "a50ee534",
   "metadata": {},
   "outputs": [],
   "source": [
    "avg_views=brba_epi['U.S. viewers_million'].mean()\n",
    "brba_epi['U.S. viewers_million'].replace(np.nan,avg_views,inplace=True)"
   ]
  },
  {
   "cell_type": "code",
   "execution_count": 13,
   "id": "f9c2df68",
   "metadata": {},
   "outputs": [
    {
     "data": {
      "text/plain": [
       "Date                    0\n",
       "Season                  0\n",
       "Episode                 0\n",
       "Title                   0\n",
       "Directed by             0\n",
       "Written by              0\n",
       "Duration_mins           0\n",
       "Summary                 0\n",
       "Rating_IMDB             0\n",
       "U.S. viewers_million    0\n",
       "dtype: int64"
      ]
     },
     "execution_count": 13,
     "metadata": {},
     "output_type": "execute_result"
    }
   ],
   "source": [
    "brba_epi.isnull().sum()"
   ]
  },
  {
   "cell_type": "code",
   "execution_count": 14,
   "id": "25ee224f",
   "metadata": {},
   "outputs": [
    {
     "data": {
      "text/plain": [
       "(62, 10)"
      ]
     },
     "execution_count": 14,
     "metadata": {},
     "output_type": "execute_result"
    }
   ],
   "source": [
    "brba_epi.shape"
   ]
  },
  {
   "cell_type": "code",
   "execution_count": 15,
   "id": "66137281",
   "metadata": {},
   "outputs": [
    {
     "name": "stdout",
     "output_type": "stream",
     "text": [
      "<class 'pandas.core.frame.DataFrame'>\n",
      "RangeIndex: 62 entries, 0 to 61\n",
      "Data columns (total 10 columns):\n",
      " #   Column                Non-Null Count  Dtype  \n",
      "---  ------                --------------  -----  \n",
      " 0   Date                  62 non-null     object \n",
      " 1   Season                62 non-null     int64  \n",
      " 2   Episode               62 non-null     int64  \n",
      " 3   Title                 62 non-null     object \n",
      " 4   Directed by           62 non-null     object \n",
      " 5   Written by            62 non-null     object \n",
      " 6   Duration_mins         62 non-null     int64  \n",
      " 7   Summary               62 non-null     object \n",
      " 8   Rating_IMDB           62 non-null     float64\n",
      " 9   U.S. viewers_million  62 non-null     float64\n",
      "dtypes: float64(2), int64(3), object(5)\n",
      "memory usage: 5.0+ KB\n"
     ]
    }
   ],
   "source": [
    "brba_epi.info()"
   ]
  },
  {
   "cell_type": "markdown",
   "id": "0227f0cc",
   "metadata": {},
   "source": [
    "# Data Analysis On BrBa Character Data Set"
   ]
  },
  {
   "cell_type": "code",
   "execution_count": 16,
   "id": "c8e211c2",
   "metadata": {},
   "outputs": [
    {
     "data": {
      "text/html": [
       "<div>\n",
       "<style scoped>\n",
       "    .dataframe tbody tr th:only-of-type {\n",
       "        vertical-align: middle;\n",
       "    }\n",
       "\n",
       "    .dataframe tbody tr th {\n",
       "        vertical-align: top;\n",
       "    }\n",
       "\n",
       "    .dataframe thead th {\n",
       "        text-align: right;\n",
       "    }\n",
       "</style>\n",
       "<table border=\"1\" class=\"dataframe\">\n",
       "  <thead>\n",
       "    <tr style=\"text-align: right;\">\n",
       "      <th></th>\n",
       "      <th>episode_id</th>\n",
       "      <th>season</th>\n",
       "      <th>episode</th>\n",
       "      <th>Episodes_appeared</th>\n",
       "    </tr>\n",
       "  </thead>\n",
       "  <tbody>\n",
       "    <tr>\n",
       "      <th>count</th>\n",
       "      <td>102.000000</td>\n",
       "      <td>102.000000</td>\n",
       "      <td>102.000000</td>\n",
       "      <td>40.000000</td>\n",
       "    </tr>\n",
       "    <tr>\n",
       "      <th>mean</th>\n",
       "      <td>51.500000</td>\n",
       "      <td>2.980392</td>\n",
       "      <td>6.441176</td>\n",
       "      <td>18.600000</td>\n",
       "    </tr>\n",
       "    <tr>\n",
       "      <th>std</th>\n",
       "      <td>29.588849</td>\n",
       "      <td>1.327399</td>\n",
       "      <td>3.724613</td>\n",
       "      <td>20.144096</td>\n",
       "    </tr>\n",
       "    <tr>\n",
       "      <th>min</th>\n",
       "      <td>1.000000</td>\n",
       "      <td>1.000000</td>\n",
       "      <td>1.000000</td>\n",
       "      <td>5.000000</td>\n",
       "    </tr>\n",
       "    <tr>\n",
       "      <th>25%</th>\n",
       "      <td>26.250000</td>\n",
       "      <td>2.000000</td>\n",
       "      <td>3.000000</td>\n",
       "      <td>6.000000</td>\n",
       "    </tr>\n",
       "    <tr>\n",
       "      <th>50%</th>\n",
       "      <td>51.500000</td>\n",
       "      <td>3.000000</td>\n",
       "      <td>6.000000</td>\n",
       "      <td>9.000000</td>\n",
       "    </tr>\n",
       "    <tr>\n",
       "      <th>75%</th>\n",
       "      <td>76.750000</td>\n",
       "      <td>4.000000</td>\n",
       "      <td>9.000000</td>\n",
       "      <td>17.750000</td>\n",
       "    </tr>\n",
       "    <tr>\n",
       "      <th>max</th>\n",
       "      <td>102.000000</td>\n",
       "      <td>5.000000</td>\n",
       "      <td>16.000000</td>\n",
       "      <td>62.000000</td>\n",
       "    </tr>\n",
       "  </tbody>\n",
       "</table>\n",
       "</div>"
      ],
      "text/plain": [
       "       episode_id      season     episode  Episodes_appeared\n",
       "count  102.000000  102.000000  102.000000          40.000000\n",
       "mean    51.500000    2.980392    6.441176          18.600000\n",
       "std     29.588849    1.327399    3.724613          20.144096\n",
       "min      1.000000    1.000000    1.000000           5.000000\n",
       "25%     26.250000    2.000000    3.000000           6.000000\n",
       "50%     51.500000    3.000000    6.000000           9.000000\n",
       "75%     76.750000    4.000000    9.000000          17.750000\n",
       "max    102.000000    5.000000   16.000000          62.000000"
      ]
     },
     "execution_count": 16,
     "metadata": {},
     "output_type": "execute_result"
    }
   ],
   "source": [
    "brba_char.describe()"
   ]
  },
  {
   "cell_type": "code",
   "execution_count": 17,
   "id": "4cd8cda7",
   "metadata": {},
   "outputs": [
    {
     "data": {
      "text/plain": [
       "episode_id             int64\n",
       "title                 object\n",
       "season                 int64\n",
       "air_date              object\n",
       "characters            object\n",
       "episode                int64\n",
       "series                object\n",
       "Characters            object\n",
       "Episodes_appeared    float64\n",
       "dtype: object"
      ]
     },
     "execution_count": 17,
     "metadata": {},
     "output_type": "execute_result"
    }
   ],
   "source": [
    "brba_char.dtypes"
   ]
  },
  {
   "cell_type": "code",
   "execution_count": 18,
   "id": "13ffd093",
   "metadata": {},
   "outputs": [
    {
     "data": {
      "text/html": [
       "<div>\n",
       "<style scoped>\n",
       "    .dataframe tbody tr th:only-of-type {\n",
       "        vertical-align: middle;\n",
       "    }\n",
       "\n",
       "    .dataframe tbody tr th {\n",
       "        vertical-align: top;\n",
       "    }\n",
       "\n",
       "    .dataframe thead th {\n",
       "        text-align: right;\n",
       "    }\n",
       "</style>\n",
       "<table border=\"1\" class=\"dataframe\">\n",
       "  <thead>\n",
       "    <tr style=\"text-align: right;\">\n",
       "      <th></th>\n",
       "      <th>episode_id</th>\n",
       "      <th>season</th>\n",
       "      <th>episode</th>\n",
       "      <th>Episodes_appeared</th>\n",
       "    </tr>\n",
       "  </thead>\n",
       "  <tbody>\n",
       "    <tr>\n",
       "      <th>0</th>\n",
       "      <td>1</td>\n",
       "      <td>1</td>\n",
       "      <td>1</td>\n",
       "      <td>62.0</td>\n",
       "    </tr>\n",
       "    <tr>\n",
       "      <th>1</th>\n",
       "      <td>2</td>\n",
       "      <td>1</td>\n",
       "      <td>2</td>\n",
       "      <td>62.0</td>\n",
       "    </tr>\n",
       "    <tr>\n",
       "      <th>2</th>\n",
       "      <td>3</td>\n",
       "      <td>1</td>\n",
       "      <td>3</td>\n",
       "      <td>62.0</td>\n",
       "    </tr>\n",
       "    <tr>\n",
       "      <th>3</th>\n",
       "      <td>4</td>\n",
       "      <td>1</td>\n",
       "      <td>4</td>\n",
       "      <td>62.0</td>\n",
       "    </tr>\n",
       "    <tr>\n",
       "      <th>4</th>\n",
       "      <td>5</td>\n",
       "      <td>1</td>\n",
       "      <td>5</td>\n",
       "      <td>62.0</td>\n",
       "    </tr>\n",
       "    <tr>\n",
       "      <th>...</th>\n",
       "      <td>...</td>\n",
       "      <td>...</td>\n",
       "      <td>...</td>\n",
       "      <td>...</td>\n",
       "    </tr>\n",
       "    <tr>\n",
       "      <th>97</th>\n",
       "      <td>98</td>\n",
       "      <td>4</td>\n",
       "      <td>6</td>\n",
       "      <td>NaN</td>\n",
       "    </tr>\n",
       "    <tr>\n",
       "      <th>98</th>\n",
       "      <td>99</td>\n",
       "      <td>4</td>\n",
       "      <td>7</td>\n",
       "      <td>NaN</td>\n",
       "    </tr>\n",
       "    <tr>\n",
       "      <th>99</th>\n",
       "      <td>100</td>\n",
       "      <td>4</td>\n",
       "      <td>8</td>\n",
       "      <td>NaN</td>\n",
       "    </tr>\n",
       "    <tr>\n",
       "      <th>100</th>\n",
       "      <td>101</td>\n",
       "      <td>4</td>\n",
       "      <td>9</td>\n",
       "      <td>NaN</td>\n",
       "    </tr>\n",
       "    <tr>\n",
       "      <th>101</th>\n",
       "      <td>102</td>\n",
       "      <td>4</td>\n",
       "      <td>10</td>\n",
       "      <td>NaN</td>\n",
       "    </tr>\n",
       "  </tbody>\n",
       "</table>\n",
       "<p>102 rows × 4 columns</p>\n",
       "</div>"
      ],
      "text/plain": [
       "     episode_id  season  episode  Episodes_appeared\n",
       "0             1       1        1               62.0\n",
       "1             2       1        2               62.0\n",
       "2             3       1        3               62.0\n",
       "3             4       1        4               62.0\n",
       "4             5       1        5               62.0\n",
       "..          ...     ...      ...                ...\n",
       "97           98       4        6                NaN\n",
       "98           99       4        7                NaN\n",
       "99          100       4        8                NaN\n",
       "100         101       4        9                NaN\n",
       "101         102       4       10                NaN\n",
       "\n",
       "[102 rows x 4 columns]"
      ]
     },
     "execution_count": 18,
     "metadata": {},
     "output_type": "execute_result"
    }
   ],
   "source": [
    "brba_char.select_dtypes(include=['number'])"
   ]
  },
  {
   "cell_type": "code",
   "execution_count": 19,
   "id": "1f86977a",
   "metadata": {},
   "outputs": [
    {
     "data": {
      "text/html": [
       "<div>\n",
       "<style scoped>\n",
       "    .dataframe tbody tr th:only-of-type {\n",
       "        vertical-align: middle;\n",
       "    }\n",
       "\n",
       "    .dataframe tbody tr th {\n",
       "        vertical-align: top;\n",
       "    }\n",
       "\n",
       "    .dataframe thead th {\n",
       "        text-align: right;\n",
       "    }\n",
       "</style>\n",
       "<table border=\"1\" class=\"dataframe\">\n",
       "  <thead>\n",
       "    <tr style=\"text-align: right;\">\n",
       "      <th></th>\n",
       "      <th>title</th>\n",
       "      <th>air_date</th>\n",
       "      <th>characters</th>\n",
       "      <th>series</th>\n",
       "      <th>Characters</th>\n",
       "    </tr>\n",
       "  </thead>\n",
       "  <tbody>\n",
       "    <tr>\n",
       "      <th>0</th>\n",
       "      <td>Pilot</td>\n",
       "      <td>01-20-2008</td>\n",
       "      <td>Walter White, Jesse Pinkman, Skyler White, Han...</td>\n",
       "      <td>Breaking Bad</td>\n",
       "      <td>Walter white</td>\n",
       "    </tr>\n",
       "    <tr>\n",
       "      <th>1</th>\n",
       "      <td>Cat's in the Bag...</td>\n",
       "      <td>01-27-2008</td>\n",
       "      <td>Walter White, Jesse Pinkman, Skyler White, Wal...</td>\n",
       "      <td>Breaking Bad</td>\n",
       "      <td>skyler white</td>\n",
       "    </tr>\n",
       "    <tr>\n",
       "      <th>2</th>\n",
       "      <td>...And the Bag's in the River</td>\n",
       "      <td>02/10/08</td>\n",
       "      <td>Walter White, Jesse Pinkman, Skyler White, Han...</td>\n",
       "      <td>Breaking Bad</td>\n",
       "      <td>jesse pinkman</td>\n",
       "    </tr>\n",
       "    <tr>\n",
       "      <th>3</th>\n",
       "      <td>Cancer Man</td>\n",
       "      <td>02-17-2008</td>\n",
       "      <td>Walter White, Jesse Pinkman, Skyler White, Han...</td>\n",
       "      <td>Breaking Bad</td>\n",
       "      <td>marie schrader</td>\n",
       "    </tr>\n",
       "    <tr>\n",
       "      <th>4</th>\n",
       "      <td>Gray Matter</td>\n",
       "      <td>02-24-2008</td>\n",
       "      <td>Walter White, Jesse Pinkman, Skyler White, Han...</td>\n",
       "      <td>Breaking Bad</td>\n",
       "      <td>Walter white jr</td>\n",
       "    </tr>\n",
       "    <tr>\n",
       "      <th>...</th>\n",
       "      <td>...</td>\n",
       "      <td>...</td>\n",
       "      <td>...</td>\n",
       "      <td>...</td>\n",
       "      <td>...</td>\n",
       "    </tr>\n",
       "    <tr>\n",
       "      <th>97</th>\n",
       "      <td>Pinata</td>\n",
       "      <td>09/10/18</td>\n",
       "      <td>Jimmy McGill, Mike Erhmantraut, Kim Wexler, Ho...</td>\n",
       "      <td>Better Call Saul</td>\n",
       "      <td>NaN</td>\n",
       "    </tr>\n",
       "    <tr>\n",
       "      <th>98</th>\n",
       "      <td>Something Stupid</td>\n",
       "      <td>09-17-2018</td>\n",
       "      <td>Jimmy McGill, Mike Erhmantraut, Kim Wexler, Ho...</td>\n",
       "      <td>Better Call Saul</td>\n",
       "      <td>NaN</td>\n",
       "    </tr>\n",
       "    <tr>\n",
       "      <th>99</th>\n",
       "      <td>Coushatta</td>\n",
       "      <td>09-24-2018</td>\n",
       "      <td>Jimmy McGill, Mike Erhmantraut, Kim Wexler, Ho...</td>\n",
       "      <td>Better Call Saul</td>\n",
       "      <td>NaN</td>\n",
       "    </tr>\n",
       "    <tr>\n",
       "      <th>100</th>\n",
       "      <td>Wiedersehen</td>\n",
       "      <td>10/01/18</td>\n",
       "      <td>Jimmy McGill, Mike Erhmantraut, Kim Wexler, Ho...</td>\n",
       "      <td>Better Call Saul</td>\n",
       "      <td>NaN</td>\n",
       "    </tr>\n",
       "    <tr>\n",
       "      <th>101</th>\n",
       "      <td>Winner</td>\n",
       "      <td>10/08/18</td>\n",
       "      <td>Jimmy McGill, Mike Erhmantraut, Kim Wexler, Ho...</td>\n",
       "      <td>Better Call Saul</td>\n",
       "      <td>NaN</td>\n",
       "    </tr>\n",
       "  </tbody>\n",
       "</table>\n",
       "<p>102 rows × 5 columns</p>\n",
       "</div>"
      ],
      "text/plain": [
       "                             title    air_date  \\\n",
       "0                            Pilot  01-20-2008   \n",
       "1              Cat's in the Bag...  01-27-2008   \n",
       "2    ...And the Bag's in the River    02/10/08   \n",
       "3                       Cancer Man  02-17-2008   \n",
       "4                      Gray Matter  02-24-2008   \n",
       "..                             ...         ...   \n",
       "97                          Pinata    09/10/18   \n",
       "98                Something Stupid  09-17-2018   \n",
       "99                       Coushatta  09-24-2018   \n",
       "100                    Wiedersehen    10/01/18   \n",
       "101                         Winner    10/08/18   \n",
       "\n",
       "                                            characters            series  \\\n",
       "0    Walter White, Jesse Pinkman, Skyler White, Han...      Breaking Bad   \n",
       "1    Walter White, Jesse Pinkman, Skyler White, Wal...      Breaking Bad   \n",
       "2    Walter White, Jesse Pinkman, Skyler White, Han...      Breaking Bad   \n",
       "3    Walter White, Jesse Pinkman, Skyler White, Han...      Breaking Bad   \n",
       "4    Walter White, Jesse Pinkman, Skyler White, Han...      Breaking Bad   \n",
       "..                                                 ...               ...   \n",
       "97   Jimmy McGill, Mike Erhmantraut, Kim Wexler, Ho...  Better Call Saul   \n",
       "98   Jimmy McGill, Mike Erhmantraut, Kim Wexler, Ho...  Better Call Saul   \n",
       "99   Jimmy McGill, Mike Erhmantraut, Kim Wexler, Ho...  Better Call Saul   \n",
       "100  Jimmy McGill, Mike Erhmantraut, Kim Wexler, Ho...  Better Call Saul   \n",
       "101  Jimmy McGill, Mike Erhmantraut, Kim Wexler, Ho...  Better Call Saul   \n",
       "\n",
       "          Characters  \n",
       "0       Walter white  \n",
       "1       skyler white  \n",
       "2      jesse pinkman  \n",
       "3     marie schrader  \n",
       "4    Walter white jr  \n",
       "..               ...  \n",
       "97               NaN  \n",
       "98               NaN  \n",
       "99               NaN  \n",
       "100              NaN  \n",
       "101              NaN  \n",
       "\n",
       "[102 rows x 5 columns]"
      ]
     },
     "execution_count": 19,
     "metadata": {},
     "output_type": "execute_result"
    }
   ],
   "source": [
    "brba_char.select_dtypes(include=['object'])"
   ]
  },
  {
   "cell_type": "code",
   "execution_count": 20,
   "id": "f74dbbee",
   "metadata": {},
   "outputs": [
    {
     "data": {
      "text/html": [
       "<div>\n",
       "<style scoped>\n",
       "    .dataframe tbody tr th:only-of-type {\n",
       "        vertical-align: middle;\n",
       "    }\n",
       "\n",
       "    .dataframe tbody tr th {\n",
       "        vertical-align: top;\n",
       "    }\n",
       "\n",
       "    .dataframe thead th {\n",
       "        text-align: right;\n",
       "    }\n",
       "</style>\n",
       "<table border=\"1\" class=\"dataframe\">\n",
       "  <thead>\n",
       "    <tr style=\"text-align: right;\">\n",
       "      <th></th>\n",
       "      <th>episode_id</th>\n",
       "      <th>title</th>\n",
       "      <th>season</th>\n",
       "      <th>air_date</th>\n",
       "      <th>characters</th>\n",
       "      <th>episode</th>\n",
       "      <th>series</th>\n",
       "      <th>Characters</th>\n",
       "      <th>Episodes_appeared</th>\n",
       "    </tr>\n",
       "  </thead>\n",
       "  <tbody>\n",
       "    <tr>\n",
       "      <th>0</th>\n",
       "      <td>1</td>\n",
       "      <td>Pilot</td>\n",
       "      <td>1</td>\n",
       "      <td>01-20-2008</td>\n",
       "      <td>Walter White, Jesse Pinkman, Skyler White, Han...</td>\n",
       "      <td>1</td>\n",
       "      <td>Breaking Bad</td>\n",
       "      <td>Walter white</td>\n",
       "      <td>62.0</td>\n",
       "    </tr>\n",
       "    <tr>\n",
       "      <th>1</th>\n",
       "      <td>2</td>\n",
       "      <td>Cat's in the Bag...</td>\n",
       "      <td>1</td>\n",
       "      <td>01-27-2008</td>\n",
       "      <td>Walter White, Jesse Pinkman, Skyler White, Wal...</td>\n",
       "      <td>2</td>\n",
       "      <td>Breaking Bad</td>\n",
       "      <td>skyler white</td>\n",
       "      <td>62.0</td>\n",
       "    </tr>\n",
       "    <tr>\n",
       "      <th>2</th>\n",
       "      <td>3</td>\n",
       "      <td>...And the Bag's in the River</td>\n",
       "      <td>1</td>\n",
       "      <td>02/10/08</td>\n",
       "      <td>Walter White, Jesse Pinkman, Skyler White, Han...</td>\n",
       "      <td>3</td>\n",
       "      <td>Breaking Bad</td>\n",
       "      <td>jesse pinkman</td>\n",
       "      <td>62.0</td>\n",
       "    </tr>\n",
       "    <tr>\n",
       "      <th>3</th>\n",
       "      <td>4</td>\n",
       "      <td>Cancer Man</td>\n",
       "      <td>1</td>\n",
       "      <td>02-17-2008</td>\n",
       "      <td>Walter White, Jesse Pinkman, Skyler White, Han...</td>\n",
       "      <td>4</td>\n",
       "      <td>Breaking Bad</td>\n",
       "      <td>marie schrader</td>\n",
       "      <td>62.0</td>\n",
       "    </tr>\n",
       "    <tr>\n",
       "      <th>4</th>\n",
       "      <td>5</td>\n",
       "      <td>Gray Matter</td>\n",
       "      <td>1</td>\n",
       "      <td>02-24-2008</td>\n",
       "      <td>Walter White, Jesse Pinkman, Skyler White, Han...</td>\n",
       "      <td>5</td>\n",
       "      <td>Breaking Bad</td>\n",
       "      <td>Walter white jr</td>\n",
       "      <td>62.0</td>\n",
       "    </tr>\n",
       "  </tbody>\n",
       "</table>\n",
       "</div>"
      ],
      "text/plain": [
       "   episode_id                          title  season    air_date  \\\n",
       "0           1                          Pilot       1  01-20-2008   \n",
       "1           2            Cat's in the Bag...       1  01-27-2008   \n",
       "2           3  ...And the Bag's in the River       1    02/10/08   \n",
       "3           4                     Cancer Man       1  02-17-2008   \n",
       "4           5                    Gray Matter       1  02-24-2008   \n",
       "\n",
       "                                          characters  episode        series  \\\n",
       "0  Walter White, Jesse Pinkman, Skyler White, Han...        1  Breaking Bad   \n",
       "1  Walter White, Jesse Pinkman, Skyler White, Wal...        2  Breaking Bad   \n",
       "2  Walter White, Jesse Pinkman, Skyler White, Han...        3  Breaking Bad   \n",
       "3  Walter White, Jesse Pinkman, Skyler White, Han...        4  Breaking Bad   \n",
       "4  Walter White, Jesse Pinkman, Skyler White, Han...        5  Breaking Bad   \n",
       "\n",
       "        Characters  Episodes_appeared  \n",
       "0     Walter white               62.0  \n",
       "1     skyler white               62.0  \n",
       "2    jesse pinkman               62.0  \n",
       "3   marie schrader               62.0  \n",
       "4  Walter white jr               62.0  "
      ]
     },
     "execution_count": 20,
     "metadata": {},
     "output_type": "execute_result"
    }
   ],
   "source": [
    "brba_char.head(5)"
   ]
  },
  {
   "cell_type": "code",
   "execution_count": 21,
   "id": "64a25758",
   "metadata": {},
   "outputs": [
    {
     "data": {
      "text/html": [
       "<div>\n",
       "<style scoped>\n",
       "    .dataframe tbody tr th:only-of-type {\n",
       "        vertical-align: middle;\n",
       "    }\n",
       "\n",
       "    .dataframe tbody tr th {\n",
       "        vertical-align: top;\n",
       "    }\n",
       "\n",
       "    .dataframe thead th {\n",
       "        text-align: right;\n",
       "    }\n",
       "</style>\n",
       "<table border=\"1\" class=\"dataframe\">\n",
       "  <thead>\n",
       "    <tr style=\"text-align: right;\">\n",
       "      <th></th>\n",
       "      <th>episode_id</th>\n",
       "      <th>title</th>\n",
       "      <th>season</th>\n",
       "      <th>air_date</th>\n",
       "      <th>characters</th>\n",
       "      <th>episode</th>\n",
       "      <th>series</th>\n",
       "      <th>Characters</th>\n",
       "      <th>Episodes_appeared</th>\n",
       "    </tr>\n",
       "  </thead>\n",
       "  <tbody>\n",
       "    <tr>\n",
       "      <th>97</th>\n",
       "      <td>98</td>\n",
       "      <td>Pinata</td>\n",
       "      <td>4</td>\n",
       "      <td>09/10/18</td>\n",
       "      <td>Jimmy McGill, Mike Erhmantraut, Kim Wexler, Ho...</td>\n",
       "      <td>6</td>\n",
       "      <td>Better Call Saul</td>\n",
       "      <td>NaN</td>\n",
       "      <td>NaN</td>\n",
       "    </tr>\n",
       "    <tr>\n",
       "      <th>98</th>\n",
       "      <td>99</td>\n",
       "      <td>Something Stupid</td>\n",
       "      <td>4</td>\n",
       "      <td>09-17-2018</td>\n",
       "      <td>Jimmy McGill, Mike Erhmantraut, Kim Wexler, Ho...</td>\n",
       "      <td>7</td>\n",
       "      <td>Better Call Saul</td>\n",
       "      <td>NaN</td>\n",
       "      <td>NaN</td>\n",
       "    </tr>\n",
       "    <tr>\n",
       "      <th>99</th>\n",
       "      <td>100</td>\n",
       "      <td>Coushatta</td>\n",
       "      <td>4</td>\n",
       "      <td>09-24-2018</td>\n",
       "      <td>Jimmy McGill, Mike Erhmantraut, Kim Wexler, Ho...</td>\n",
       "      <td>8</td>\n",
       "      <td>Better Call Saul</td>\n",
       "      <td>NaN</td>\n",
       "      <td>NaN</td>\n",
       "    </tr>\n",
       "    <tr>\n",
       "      <th>100</th>\n",
       "      <td>101</td>\n",
       "      <td>Wiedersehen</td>\n",
       "      <td>4</td>\n",
       "      <td>10/01/18</td>\n",
       "      <td>Jimmy McGill, Mike Erhmantraut, Kim Wexler, Ho...</td>\n",
       "      <td>9</td>\n",
       "      <td>Better Call Saul</td>\n",
       "      <td>NaN</td>\n",
       "      <td>NaN</td>\n",
       "    </tr>\n",
       "    <tr>\n",
       "      <th>101</th>\n",
       "      <td>102</td>\n",
       "      <td>Winner</td>\n",
       "      <td>4</td>\n",
       "      <td>10/08/18</td>\n",
       "      <td>Jimmy McGill, Mike Erhmantraut, Kim Wexler, Ho...</td>\n",
       "      <td>10</td>\n",
       "      <td>Better Call Saul</td>\n",
       "      <td>NaN</td>\n",
       "      <td>NaN</td>\n",
       "    </tr>\n",
       "  </tbody>\n",
       "</table>\n",
       "</div>"
      ],
      "text/plain": [
       "     episode_id             title  season    air_date  \\\n",
       "97           98            Pinata       4    09/10/18   \n",
       "98           99  Something Stupid       4  09-17-2018   \n",
       "99          100         Coushatta       4  09-24-2018   \n",
       "100         101       Wiedersehen       4    10/01/18   \n",
       "101         102            Winner       4    10/08/18   \n",
       "\n",
       "                                            characters  episode  \\\n",
       "97   Jimmy McGill, Mike Erhmantraut, Kim Wexler, Ho...        6   \n",
       "98   Jimmy McGill, Mike Erhmantraut, Kim Wexler, Ho...        7   \n",
       "99   Jimmy McGill, Mike Erhmantraut, Kim Wexler, Ho...        8   \n",
       "100  Jimmy McGill, Mike Erhmantraut, Kim Wexler, Ho...        9   \n",
       "101  Jimmy McGill, Mike Erhmantraut, Kim Wexler, Ho...       10   \n",
       "\n",
       "               series Characters  Episodes_appeared  \n",
       "97   Better Call Saul        NaN                NaN  \n",
       "98   Better Call Saul        NaN                NaN  \n",
       "99   Better Call Saul        NaN                NaN  \n",
       "100  Better Call Saul        NaN                NaN  \n",
       "101  Better Call Saul        NaN                NaN  "
      ]
     },
     "execution_count": 21,
     "metadata": {},
     "output_type": "execute_result"
    }
   ],
   "source": [
    "brba_char.tail(5)"
   ]
  },
  {
   "cell_type": "code",
   "execution_count": 22,
   "id": "fcea1b4b",
   "metadata": {},
   "outputs": [
    {
     "data": {
      "text/plain": [
       "0"
      ]
     },
     "execution_count": 22,
     "metadata": {},
     "output_type": "execute_result"
    }
   ],
   "source": [
    "brba_char.duplicated().sum()"
   ]
  },
  {
   "cell_type": "code",
   "execution_count": 23,
   "id": "1d3c0f55",
   "metadata": {},
   "outputs": [
    {
     "data": {
      "text/plain": [
       "(102, 9)"
      ]
     },
     "execution_count": 23,
     "metadata": {},
     "output_type": "execute_result"
    }
   ],
   "source": [
    "brba_char.shape"
   ]
  },
  {
   "cell_type": "code",
   "execution_count": 24,
   "id": "8f4da764",
   "metadata": {},
   "outputs": [
    {
     "name": "stdout",
     "output_type": "stream",
     "text": [
      "<class 'pandas.core.frame.DataFrame'>\n",
      "RangeIndex: 102 entries, 0 to 101\n",
      "Data columns (total 9 columns):\n",
      " #   Column             Non-Null Count  Dtype  \n",
      "---  ------             --------------  -----  \n",
      " 0   episode_id         102 non-null    int64  \n",
      " 1   title              102 non-null    object \n",
      " 2   season             102 non-null    int64  \n",
      " 3   air_date           102 non-null    object \n",
      " 4   characters         102 non-null    object \n",
      " 5   episode            102 non-null    int64  \n",
      " 6   series             102 non-null    object \n",
      " 7   Characters         40 non-null     object \n",
      " 8   Episodes_appeared  40 non-null     float64\n",
      "dtypes: float64(1), int64(3), object(5)\n",
      "memory usage: 7.3+ KB\n"
     ]
    }
   ],
   "source": [
    "brba_char.info()"
   ]
  },
  {
   "cell_type": "markdown",
   "id": "cb233a55",
   "metadata": {},
   "source": [
    "# Exploratory Data Analysis - EDA"
   ]
  },
  {
   "cell_type": "markdown",
   "id": "db3ea8f0",
   "metadata": {},
   "source": [
    "#Count of Episodes on Each Season"
   ]
  },
  {
   "cell_type": "code",
   "execution_count": 25,
   "id": "46e6cda7",
   "metadata": {},
   "outputs": [
    {
     "data": {
      "text/plain": [
       "1     7\n",
       "2    13\n",
       "3    13\n",
       "4    13\n",
       "5    16\n",
       "Name: Season, dtype: int64"
      ]
     },
     "execution_count": 25,
     "metadata": {},
     "output_type": "execute_result"
    }
   ],
   "source": [
    "brba_epi['Season'].value_counts().sort_index()"
   ]
  },
  {
   "cell_type": "code",
   "execution_count": 26,
   "id": "b3ad4c15",
   "metadata": {},
   "outputs": [
    {
     "data": {
      "text/plain": [
       "<AxesSubplot:title={'center':'Count of episodes'}, xlabel='Season', ylabel='count'>"
      ]
     },
     "execution_count": 26,
     "metadata": {},
     "output_type": "execute_result"
    },
    {
     "data": {
      "image/png": "[encoded data removed]",
      "text/plain": [
       "<Figure size 720x360 with 1 Axes>"
      ]
     },
     "metadata": {
      "needs_background": "light"
     },
     "output_type": "display_data"
    }
   ],
   "source": [
    "plt.figure(figsize=(10,5))\n",
    "plt.xlabel(\"Season\")\n",
    "plt.title(\"Count of episodes\")\n",
    "sns.countplot(x = \"Season\", data = brba_epi, palette='rocket')"
   ]
  },
  {
   "cell_type": "markdown",
   "id": "a77c6e28",
   "metadata": {},
   "source": [
    "Total Duration of each Season"
   ]
  },
  {
   "cell_type": "code",
   "execution_count": 27,
   "id": "bf224744",
   "metadata": {},
   "outputs": [
    {
     "data": {
      "text/html": [
       "<div>\n",
       "<style scoped>\n",
       "    .dataframe tbody tr th:only-of-type {\n",
       "        vertical-align: middle;\n",
       "    }\n",
       "\n",
       "    .dataframe tbody tr th {\n",
       "        vertical-align: top;\n",
       "    }\n",
       "\n",
       "    .dataframe thead th {\n",
       "        text-align: right;\n",
       "    }\n",
       "</style>\n",
       "<table border=\"1\" class=\"dataframe\">\n",
       "  <thead>\n",
       "    <tr style=\"text-align: right;\">\n",
       "      <th></th>\n",
       "      <th>Season</th>\n",
       "      <th>Duration_mins</th>\n",
       "    </tr>\n",
       "  </thead>\n",
       "  <tbody>\n",
       "    <tr>\n",
       "      <th>0</th>\n",
       "      <td>1</td>\n",
       "      <td>346</td>\n",
       "    </tr>\n",
       "    <tr>\n",
       "      <th>1</th>\n",
       "      <td>2</td>\n",
       "      <td>611</td>\n",
       "    </tr>\n",
       "    <tr>\n",
       "      <th>2</th>\n",
       "      <td>3</td>\n",
       "      <td>611</td>\n",
       "    </tr>\n",
       "    <tr>\n",
       "      <th>3</th>\n",
       "      <td>4</td>\n",
       "      <td>627</td>\n",
       "    </tr>\n",
       "    <tr>\n",
       "      <th>4</th>\n",
       "      <td>5</td>\n",
       "      <td>776</td>\n",
       "    </tr>\n",
       "  </tbody>\n",
       "</table>\n",
       "</div>"
      ],
      "text/plain": [
       "   Season  Duration_mins\n",
       "0       1            346\n",
       "1       2            611\n",
       "2       3            611\n",
       "3       4            627\n",
       "4       5            776"
      ]
     },
     "execution_count": 27,
     "metadata": {},
     "output_type": "execute_result"
    }
   ],
   "source": [
    "brba_season_duration = brba_epi.groupby('Season').Duration_mins.sum().to_frame().reset_index()\n",
    "brba_season_duration\n",
    "#or\n",
    "#brba_season_duration = brba_epi.groupby('Season')['Duration'].sum().to_frame().reset_index()"
   ]
  },
  {
   "cell_type": "code",
   "execution_count": 28,
   "id": "0cb89e74",
   "metadata": {},
   "outputs": [
    {
     "data": {
      "text/plain": [
       "(300.0, 800.0)"
      ]
     },
     "execution_count": 28,
     "metadata": {},
     "output_type": "execute_result"
    },
    {
     "data": {
      "image/png": "[encoded data removed]",
      "text/plain": [
       "<Figure size 720x360 with 1 Axes>"
      ]
     },
     "metadata": {
      "needs_background": "light"
     },
     "output_type": "display_data"
    }
   ],
   "source": [
    "plt.figure(figsize=(10,5))\n",
    "sns.barplot(x=brba_season_duration.Season, y=brba_season_duration.Duration_mins, palette='flare')\n",
    "plt.title('Total Duration of each Season', fontsize=15)\n",
    "plt.xlabel('Duration')\n",
    "plt.ylabel('Season')\n",
    "plt.xticks(fontsize=12)\n",
    "plt.yticks(fontsize=12)\n",
    "plt.ylim(300, 800)"
   ]
  },
  {
   "cell_type": "markdown",
   "id": "b35d6ae7",
   "metadata": {},
   "source": [
    "Avg IMDB Rating of each Season"
   ]
  },
  {
   "cell_type": "code",
   "execution_count": 29,
   "id": "3adf800a",
   "metadata": {},
   "outputs": [
    {
     "data": {
      "text/html": [
       "<div>\n",
       "<style scoped>\n",
       "    .dataframe tbody tr th:only-of-type {\n",
       "        vertical-align: middle;\n",
       "    }\n",
       "\n",
       "    .dataframe tbody tr th {\n",
       "        vertical-align: top;\n",
       "    }\n",
       "\n",
       "    .dataframe thead th {\n",
       "        text-align: right;\n",
       "    }\n",
       "</style>\n",
       "<table border=\"1\" class=\"dataframe\">\n",
       "  <thead>\n",
       "    <tr style=\"text-align: right;\">\n",
       "      <th></th>\n",
       "      <th>Season</th>\n",
       "      <th>Rating_IMDB</th>\n",
       "    </tr>\n",
       "  </thead>\n",
       "  <tbody>\n",
       "    <tr>\n",
       "      <th>4</th>\n",
       "      <td>5</td>\n",
       "      <td>9.431250</td>\n",
       "    </tr>\n",
       "    <tr>\n",
       "      <th>3</th>\n",
       "      <td>4</td>\n",
       "      <td>9.023077</td>\n",
       "    </tr>\n",
       "    <tr>\n",
       "      <th>1</th>\n",
       "      <td>2</td>\n",
       "      <td>8.861538</td>\n",
       "    </tr>\n",
       "    <tr>\n",
       "      <th>2</th>\n",
       "      <td>3</td>\n",
       "      <td>8.807692</td>\n",
       "    </tr>\n",
       "    <tr>\n",
       "      <th>0</th>\n",
       "      <td>1</td>\n",
       "      <td>8.785714</td>\n",
       "    </tr>\n",
       "  </tbody>\n",
       "</table>\n",
       "</div>"
      ],
      "text/plain": [
       "   Season  Rating_IMDB\n",
       "4       5     9.431250\n",
       "3       4     9.023077\n",
       "1       2     8.861538\n",
       "2       3     8.807692\n",
       "0       1     8.785714"
      ]
     },
     "execution_count": 29,
     "metadata": {},
     "output_type": "execute_result"
    }
   ],
   "source": [
    "brba_season_rating = brba_epi.groupby('Season').mean().Rating_IMDB.to_frame().reset_index()\n",
    "brba_season_rating.columns = ['Season','Rating_IMDB']\n",
    "brba_season_rating = brba_season_rating.sort_values('Rating_IMDB', ascending=False)\n",
    "brba_season_rating\n",
    "#or\n",
    "#brba_season_rating=brba_epi.groupby('Season')['Rating_Imdb'].mean().to_frame().reset_index()..."
   ]
  },
  {
   "cell_type": "code",
   "execution_count": 30,
   "id": "87bb95be",
   "metadata": {},
   "outputs": [
    {
     "data": {
      "text/plain": [
       "(5.0, 10.0)"
      ]
     },
     "execution_count": 30,
     "metadata": {},
     "output_type": "execute_result"
    },
    {
     "data": {
      "image/png": "[encoded data removed]",
      "text/plain": [
       "<Figure size 720x360 with 1 Axes>"
      ]
     },
     "metadata": {
      "needs_background": "light"
     },
     "output_type": "display_data"
    }
   ],
   "source": [
    "plt.figure(figsize=(10,5))\n",
    "sns.barplot(y=brba_season_rating.Season, x=brba_season_rating['Rating_IMDB'], palette='twilight', orient='h')\n",
    "plt.title('Avg IMDB Rating of each Season', fontsize=15)\n",
    "plt.xlabel('Avg Rating')\n",
    "plt.ylabel('Season')\n",
    "plt.xticks(fontsize=12)\n",
    "plt.yticks(fontsize=12)\n",
    "plt.xlim(5, 10)"
   ]
  },
  {
   "cell_type": "code",
   "execution_count": 31,
   "id": "5d43f6a9",
   "metadata": {},
   "outputs": [
    {
     "data": {
      "text/plain": [
       "<seaborn.axisgrid.PairGrid at 0x7fbdd8bc7fa0>"
      ]
     },
     "execution_count": 31,
     "metadata": {},
     "output_type": "execute_result"
    },
    {
     "data": {
      "image/png": "[encoded data removed]",
      "text/plain": [
       "<Figure size 540x540 with 12 Axes>"
      ]
     },
     "metadata": {
      "needs_background": "light"
     },
     "output_type": "display_data"
    }
   ],
   "source": [
    "sns.pairplot(brba_epi[['Season','Episode','Rating_IMDB']])"
   ]
  },
  {
   "cell_type": "markdown",
   "id": "d6a8f856",
   "metadata": {},
   "source": [
    "#top 10 High rated episodes"
   ]
  },
  {
   "cell_type": "code",
   "execution_count": 32,
   "id": "d8cbae41",
   "metadata": {},
   "outputs": [
    {
     "data": {
      "text/html": [
       "<div>\n",
       "<style scoped>\n",
       "    .dataframe tbody tr th:only-of-type {\n",
       "        vertical-align: middle;\n",
       "    }\n",
       "\n",
       "    .dataframe tbody tr th {\n",
       "        vertical-align: top;\n",
       "    }\n",
       "\n",
       "    .dataframe thead th {\n",
       "        text-align: right;\n",
       "    }\n",
       "</style>\n",
       "<table border=\"1\" class=\"dataframe\">\n",
       "  <thead>\n",
       "    <tr style=\"text-align: right;\">\n",
       "      <th></th>\n",
       "      <th>Season</th>\n",
       "      <th>Title</th>\n",
       "      <th>Rating_IMDB</th>\n",
       "    </tr>\n",
       "  </thead>\n",
       "  <tbody>\n",
       "    <tr>\n",
       "      <th>0</th>\n",
       "      <td>5</td>\n",
       "      <td>Ozymandias</td>\n",
       "      <td>10.0</td>\n",
       "    </tr>\n",
       "    <tr>\n",
       "      <th>1</th>\n",
       "      <td>5</td>\n",
       "      <td>Felina</td>\n",
       "      <td>9.9</td>\n",
       "    </tr>\n",
       "    <tr>\n",
       "      <th>2</th>\n",
       "      <td>4</td>\n",
       "      <td>Face Off</td>\n",
       "      <td>9.9</td>\n",
       "    </tr>\n",
       "    <tr>\n",
       "      <th>3</th>\n",
       "      <td>5</td>\n",
       "      <td>To'hajiilee</td>\n",
       "      <td>9.8</td>\n",
       "    </tr>\n",
       "    <tr>\n",
       "      <th>4</th>\n",
       "      <td>5</td>\n",
       "      <td>Granite State</td>\n",
       "      <td>9.7</td>\n",
       "    </tr>\n",
       "    <tr>\n",
       "      <th>5</th>\n",
       "      <td>5</td>\n",
       "      <td>Dead Freight</td>\n",
       "      <td>9.7</td>\n",
       "    </tr>\n",
       "    <tr>\n",
       "      <th>6</th>\n",
       "      <td>4</td>\n",
       "      <td>Crawl Space</td>\n",
       "      <td>9.7</td>\n",
       "    </tr>\n",
       "    <tr>\n",
       "      <th>7</th>\n",
       "      <td>3</td>\n",
       "      <td>Full Measure</td>\n",
       "      <td>9.7</td>\n",
       "    </tr>\n",
       "    <tr>\n",
       "      <th>8</th>\n",
       "      <td>3</td>\n",
       "      <td>One Minute</td>\n",
       "      <td>9.6</td>\n",
       "    </tr>\n",
       "    <tr>\n",
       "      <th>9</th>\n",
       "      <td>5</td>\n",
       "      <td>Confessions</td>\n",
       "      <td>9.6</td>\n",
       "    </tr>\n",
       "  </tbody>\n",
       "</table>\n",
       "</div>"
      ],
      "text/plain": [
       "   Season          Title  Rating_IMDB\n",
       "0       5     Ozymandias         10.0\n",
       "1       5         Felina          9.9\n",
       "2       4       Face Off          9.9\n",
       "3       5    To'hajiilee          9.8\n",
       "4       5  Granite State          9.7\n",
       "5       5   Dead Freight          9.7\n",
       "6       4    Crawl Space          9.7\n",
       "7       3   Full Measure          9.7\n",
       "8       3     One Minute          9.6\n",
       "9       5    Confessions          9.6"
      ]
     },
     "execution_count": 32,
     "metadata": {},
     "output_type": "execute_result"
    }
   ],
   "source": [
    "brba_season_pop_epi = brba_epi[['Season','Title', 'Rating_IMDB']].sort_values('Rating_IMDB', ascending=False).head(10).reset_index(drop=True)\n",
    "brba_season_pop_epi"
   ]
  },
  {
   "cell_type": "code",
   "execution_count": 33,
   "id": "bffbac9d",
   "metadata": {},
   "outputs": [
    {
     "data": {
      "text/plain": [
       "(9.0, 10.0)"
      ]
     },
     "execution_count": 33,
     "metadata": {},
     "output_type": "execute_result"
    },
    {
     "data": {
      "image/png": "[encoded data removed]",
      "text/plain": [
       "<Figure size 720x360 with 1 Axes>"
      ]
     },
     "metadata": {
      "needs_background": "light"
     },
     "output_type": "display_data"
    }
   ],
   "source": [
    "plt.figure(figsize=(10,5))\n",
    "sns.barplot(y=brba_season_pop_epi.Title, x=brba_season_pop_epi.Rating_IMDB, orient='h', palette='mako')\n",
    "plt.title('Top 10 High-Rated Episodes', fontsize=15)\n",
    "plt.xlabel('Rating')\n",
    "plt.ylabel('Episodes')\n",
    "plt.xticks(fontsize=12)\n",
    "plt.yticks(fontsize=12)\n",
    "plt.xlim(9, 10)"
   ]
  },
  {
   "cell_type": "markdown",
   "id": "fd90a58e",
   "metadata": {},
   "source": [
    "#low rated episodes"
   ]
  },
  {
   "cell_type": "code",
   "execution_count": 34,
   "id": "126a9768",
   "metadata": {},
   "outputs": [
    {
     "data": {
      "text/html": [
       "<div>\n",
       "<style scoped>\n",
       "    .dataframe tbody tr th:only-of-type {\n",
       "        vertical-align: middle;\n",
       "    }\n",
       "\n",
       "    .dataframe tbody tr th {\n",
       "        vertical-align: top;\n",
       "    }\n",
       "\n",
       "    .dataframe thead th {\n",
       "        text-align: right;\n",
       "    }\n",
       "</style>\n",
       "<table border=\"1\" class=\"dataframe\">\n",
       "  <thead>\n",
       "    <tr style=\"text-align: right;\">\n",
       "      <th></th>\n",
       "      <th>Season</th>\n",
       "      <th>Title</th>\n",
       "      <th>Rating_IMDB</th>\n",
       "    </tr>\n",
       "  </thead>\n",
       "  <tbody>\n",
       "    <tr>\n",
       "      <th>0</th>\n",
       "      <td>3</td>\n",
       "      <td>Abiquiu</td>\n",
       "      <td>8.5</td>\n",
       "    </tr>\n",
       "    <tr>\n",
       "      <th>1</th>\n",
       "      <td>2</td>\n",
       "      <td>Breakage</td>\n",
       "      <td>8.4</td>\n",
       "    </tr>\n",
       "    <tr>\n",
       "      <th>2</th>\n",
       "      <td>1</td>\n",
       "      <td>Gray Matter</td>\n",
       "      <td>8.4</td>\n",
       "    </tr>\n",
       "    <tr>\n",
       "      <th>3</th>\n",
       "      <td>2</td>\n",
       "      <td>Bit by a Dead Bee</td>\n",
       "      <td>8.4</td>\n",
       "    </tr>\n",
       "    <tr>\n",
       "      <th>4</th>\n",
       "      <td>3</td>\n",
       "      <td>Green Light</td>\n",
       "      <td>8.3</td>\n",
       "    </tr>\n",
       "    <tr>\n",
       "      <th>5</th>\n",
       "      <td>2</td>\n",
       "      <td>Down</td>\n",
       "      <td>8.3</td>\n",
       "    </tr>\n",
       "    <tr>\n",
       "      <th>6</th>\n",
       "      <td>4</td>\n",
       "      <td>Thirty-Eight Snub</td>\n",
       "      <td>8.3</td>\n",
       "    </tr>\n",
       "    <tr>\n",
       "      <th>7</th>\n",
       "      <td>1</td>\n",
       "      <td>Cancer Man</td>\n",
       "      <td>8.3</td>\n",
       "    </tr>\n",
       "    <tr>\n",
       "      <th>8</th>\n",
       "      <td>4</td>\n",
       "      <td>Open House</td>\n",
       "      <td>8.1</td>\n",
       "    </tr>\n",
       "    <tr>\n",
       "      <th>9</th>\n",
       "      <td>3</td>\n",
       "      <td>Fly</td>\n",
       "      <td>7.8</td>\n",
       "    </tr>\n",
       "  </tbody>\n",
       "</table>\n",
       "</div>"
      ],
      "text/plain": [
       "   Season              Title  Rating_IMDB\n",
       "0       3            Abiquiu          8.5\n",
       "1       2           Breakage          8.4\n",
       "2       1        Gray Matter          8.4\n",
       "3       2  Bit by a Dead Bee          8.4\n",
       "4       3        Green Light          8.3\n",
       "5       2               Down          8.3\n",
       "6       4  Thirty-Eight Snub          8.3\n",
       "7       1         Cancer Man          8.3\n",
       "8       4         Open House          8.1\n",
       "9       3                Fly          7.8"
      ]
     },
     "execution_count": 34,
     "metadata": {},
     "output_type": "execute_result"
    }
   ],
   "source": [
    "brba_season_pop_epi = brba_epi[['Season','Title', 'Rating_IMDB']].sort_values('Rating_IMDB', ascending=False).tail(10).reset_index(drop=True)\n",
    "brba_season_pop_epi"
   ]
  },
  {
   "cell_type": "code",
   "execution_count": 35,
   "id": "6b62275b",
   "metadata": {},
   "outputs": [
    {
     "data": {
      "text/plain": [
       "(3.0, 9.0)"
      ]
     },
     "execution_count": 35,
     "metadata": {},
     "output_type": "execute_result"
    },
    {
     "data": {
      "image/png": "[encoded data removed]",
      "text/plain": [
       "<Figure size 720x360 with 1 Axes>"
      ]
     },
     "metadata": {
      "needs_background": "light"
     },
     "output_type": "display_data"
    }
   ],
   "source": [
    "plt.figure(figsize=(10,5))\n",
    "sns.barplot(y=brba_season_pop_epi.Title, x=brba_season_pop_epi.Rating_IMDB, orient='h', palette='YlGn')\n",
    "plt.title('Bottom 10 Low-Rated Episodes', fontsize=15)\n",
    "plt.xlabel('Rating')\n",
    "plt.ylabel('Episodes')\n",
    "plt.xticks(fontsize=12)\n",
    "plt.yticks(fontsize=12)\n",
    "plt.xlim(3, 9)"
   ]
  },
  {
   "cell_type": "markdown",
   "id": "12cf28db",
   "metadata": {},
   "source": [
    "#Directors count"
   ]
  },
  {
   "cell_type": "code",
   "execution_count": 36,
   "id": "b1ac4849",
   "metadata": {},
   "outputs": [
    {
     "data": {
      "text/plain": [
       "Directed by\n",
       "Michelle MacLaren        11\n",
       "Adam Bernstein            8\n",
       "Vince Gilligan            5\n",
       "Michael Slovis            4\n",
       "Colin Bucksey             4\n",
       "Bryan Cranston            3\n",
       "Terry McDonough           3\n",
       "Rian Johnson              3\n",
       "Johan Renck               3\n",
       "Scott Winant              2\n",
       "Peter Gould               2\n",
       "John Shiban               1\n",
       "Bronwen Hughes            1\n",
       "John Dahl                 1\n",
       "Jim McKay                 1\n",
       "Peter Medak               1\n",
       "Phil Abraham              1\n",
       "George Mastras            1\n",
       "Sam Catlin                1\n",
       "F�lix Enr�quez Alcal�     1\n",
       "David Slade               1\n",
       "Thomas Schnauz            1\n",
       "Tim Hunter                1\n",
       "Tricia Brock              1\n",
       "Charles Haid              1\n",
       "Name: Title, dtype: int64"
      ]
     },
     "execution_count": 36,
     "metadata": {},
     "output_type": "execute_result"
    }
   ],
   "source": [
    "director_count = brba_epi.groupby(\"Directed by\").Title.count().sort_values(ascending=False)\n",
    "director_count"
   ]
  },
  {
   "cell_type": "code",
   "execution_count": 37,
   "id": "62c8d39e",
   "metadata": {},
   "outputs": [
    {
     "data": {
      "text/plain": [
       "25"
      ]
     },
     "execution_count": 37,
     "metadata": {},
     "output_type": "execute_result"
    }
   ],
   "source": [
    "director_count.count()"
   ]
  },
  {
   "cell_type": "markdown",
   "id": "e24efd17",
   "metadata": {},
   "source": [
    "Directors who directed max number of episodes"
   ]
  },
  {
   "cell_type": "code",
   "execution_count": 38,
   "id": "9df9ada3",
   "metadata": {},
   "outputs": [
    {
     "data": {
      "text/html": [
       "<div>\n",
       "<style scoped>\n",
       "    .dataframe tbody tr th:only-of-type {\n",
       "        vertical-align: middle;\n",
       "    }\n",
       "\n",
       "    .dataframe tbody tr th {\n",
       "        vertical-align: top;\n",
       "    }\n",
       "\n",
       "    .dataframe thead th {\n",
       "        text-align: right;\n",
       "    }\n",
       "</style>\n",
       "<table border=\"1\" class=\"dataframe\">\n",
       "  <thead>\n",
       "    <tr style=\"text-align: right;\">\n",
       "      <th></th>\n",
       "      <th>Directed by</th>\n",
       "      <th>Title</th>\n",
       "    </tr>\n",
       "  </thead>\n",
       "  <tbody>\n",
       "    <tr>\n",
       "      <th>0</th>\n",
       "      <td>Michelle MacLaren</td>\n",
       "      <td>11</td>\n",
       "    </tr>\n",
       "    <tr>\n",
       "      <th>1</th>\n",
       "      <td>Adam Bernstein</td>\n",
       "      <td>8</td>\n",
       "    </tr>\n",
       "    <tr>\n",
       "      <th>2</th>\n",
       "      <td>Vince Gilligan</td>\n",
       "      <td>5</td>\n",
       "    </tr>\n",
       "    <tr>\n",
       "      <th>3</th>\n",
       "      <td>Michael Slovis</td>\n",
       "      <td>4</td>\n",
       "    </tr>\n",
       "    <tr>\n",
       "      <th>4</th>\n",
       "      <td>Colin Bucksey</td>\n",
       "      <td>4</td>\n",
       "    </tr>\n",
       "    <tr>\n",
       "      <th>5</th>\n",
       "      <td>Bryan Cranston</td>\n",
       "      <td>3</td>\n",
       "    </tr>\n",
       "    <tr>\n",
       "      <th>6</th>\n",
       "      <td>Terry McDonough</td>\n",
       "      <td>3</td>\n",
       "    </tr>\n",
       "    <tr>\n",
       "      <th>7</th>\n",
       "      <td>Rian Johnson</td>\n",
       "      <td>3</td>\n",
       "    </tr>\n",
       "    <tr>\n",
       "      <th>8</th>\n",
       "      <td>Johan Renck</td>\n",
       "      <td>3</td>\n",
       "    </tr>\n",
       "    <tr>\n",
       "      <th>9</th>\n",
       "      <td>Scott Winant</td>\n",
       "      <td>2</td>\n",
       "    </tr>\n",
       "  </tbody>\n",
       "</table>\n",
       "</div>"
      ],
      "text/plain": [
       "         Directed by  Title\n",
       "0  Michelle MacLaren     11\n",
       "1     Adam Bernstein      8\n",
       "2     Vince Gilligan      5\n",
       "3     Michael Slovis      4\n",
       "4      Colin Bucksey      4\n",
       "5     Bryan Cranston      3\n",
       "6    Terry McDonough      3\n",
       "7       Rian Johnson      3\n",
       "8        Johan Renck      3\n",
       "9       Scott Winant      2"
      ]
     },
     "execution_count": 38,
     "metadata": {},
     "output_type": "execute_result"
    }
   ],
   "source": [
    "top10_dir = director_count.head(10).reset_index()\n",
    "top10_dir"
   ]
  },
  {
   "cell_type": "code",
   "execution_count": 39,
   "id": "fe3ae6d9",
   "metadata": {},
   "outputs": [
    {
     "data": {
      "text/plain": [
       "Text(0, 0.5, 'No Of Episodes')"
      ]
     },
     "execution_count": 39,
     "metadata": {},
     "output_type": "execute_result"
    },
    {
     "data": {
      "image/png": "[encoded data removed]",
      "text/plain": [
       "<Figure size 1296x360 with 1 Axes>"
      ]
     },
     "metadata": {
      "needs_background": "light"
     },
     "output_type": "display_data"
    }
   ],
   "source": [
    "plt.figure(figsize=(18,5))\n",
    "sns.barplot(x=top10_dir['Directed by'], y=top10_dir['Title'], palette='Blues')\n",
    "plt.title('Directors who directed max number of Episodes', fontsize=15)\n",
    "plt.xlabel('Directed By')\n",
    "plt.ylabel('No Of Episodes')"
   ]
  },
  {
   "cell_type": "code",
   "execution_count": 40,
   "id": "5f22dd63",
   "metadata": {},
   "outputs": [
    {
     "data": {
      "text/plain": [
       "Text(0, 0.5, 'No Of Episodes')"
      ]
     },
     "execution_count": 40,
     "metadata": {},
     "output_type": "execute_result"
    },
    {
     "data": {
      "image/png": "[encoded data removed]",
      "text/plain": [
       "<Figure size 1296x360 with 1 Axes>"
      ]
     },
     "metadata": {
      "needs_background": "light"
     },
     "output_type": "display_data"
    }
   ],
   "source": [
    "##just a try\n",
    "\n",
    "plt.figure(figsize=(18,5))\n",
    "sns.barplot(x=top10_dir['Directed by'], y=top10_dir.Title, palette='Blues')\n",
    "plt.title('Directors who directed max number of Episodes', fontsize=15)\n",
    "plt.xlabel('Directed By')\n",
    "plt.ylabel('No Of Episodes')"
   ]
  },
  {
   "cell_type": "markdown",
   "id": "f5798fb6",
   "metadata": {},
   "source": [
    "#director who has directed less than 3 episodes"
   ]
  },
  {
   "cell_type": "code",
   "execution_count": 41,
   "id": "8652e85f",
   "metadata": {},
   "outputs": [
    {
     "data": {
      "text/html": [
       "<div>\n",
       "<style scoped>\n",
       "    .dataframe tbody tr th:only-of-type {\n",
       "        vertical-align: middle;\n",
       "    }\n",
       "\n",
       "    .dataframe tbody tr th {\n",
       "        vertical-align: top;\n",
       "    }\n",
       "\n",
       "    .dataframe thead th {\n",
       "        text-align: right;\n",
       "    }\n",
       "</style>\n",
       "<table border=\"1\" class=\"dataframe\">\n",
       "  <thead>\n",
       "    <tr style=\"text-align: right;\">\n",
       "      <th></th>\n",
       "      <th>Director</th>\n",
       "      <th>Episode</th>\n",
       "    </tr>\n",
       "  </thead>\n",
       "  <tbody>\n",
       "    <tr>\n",
       "      <th>9</th>\n",
       "      <td>Scott Winant</td>\n",
       "      <td>2</td>\n",
       "    </tr>\n",
       "    <tr>\n",
       "      <th>10</th>\n",
       "      <td>Peter Gould</td>\n",
       "      <td>2</td>\n",
       "    </tr>\n",
       "    <tr>\n",
       "      <th>11</th>\n",
       "      <td>John Shiban</td>\n",
       "      <td>1</td>\n",
       "    </tr>\n",
       "    <tr>\n",
       "      <th>12</th>\n",
       "      <td>Bronwen Hughes</td>\n",
       "      <td>1</td>\n",
       "    </tr>\n",
       "    <tr>\n",
       "      <th>13</th>\n",
       "      <td>John Dahl</td>\n",
       "      <td>1</td>\n",
       "    </tr>\n",
       "    <tr>\n",
       "      <th>14</th>\n",
       "      <td>Jim McKay</td>\n",
       "      <td>1</td>\n",
       "    </tr>\n",
       "    <tr>\n",
       "      <th>15</th>\n",
       "      <td>Peter Medak</td>\n",
       "      <td>1</td>\n",
       "    </tr>\n",
       "    <tr>\n",
       "      <th>16</th>\n",
       "      <td>Phil Abraham</td>\n",
       "      <td>1</td>\n",
       "    </tr>\n",
       "    <tr>\n",
       "      <th>17</th>\n",
       "      <td>George Mastras</td>\n",
       "      <td>1</td>\n",
       "    </tr>\n",
       "    <tr>\n",
       "      <th>18</th>\n",
       "      <td>Sam Catlin</td>\n",
       "      <td>1</td>\n",
       "    </tr>\n",
       "    <tr>\n",
       "      <th>19</th>\n",
       "      <td>F�lix Enr�quez Alcal�</td>\n",
       "      <td>1</td>\n",
       "    </tr>\n",
       "    <tr>\n",
       "      <th>20</th>\n",
       "      <td>David Slade</td>\n",
       "      <td>1</td>\n",
       "    </tr>\n",
       "    <tr>\n",
       "      <th>21</th>\n",
       "      <td>Thomas Schnauz</td>\n",
       "      <td>1</td>\n",
       "    </tr>\n",
       "    <tr>\n",
       "      <th>22</th>\n",
       "      <td>Tim Hunter</td>\n",
       "      <td>1</td>\n",
       "    </tr>\n",
       "    <tr>\n",
       "      <th>23</th>\n",
       "      <td>Tricia Brock</td>\n",
       "      <td>1</td>\n",
       "    </tr>\n",
       "    <tr>\n",
       "      <th>24</th>\n",
       "      <td>Charles Haid</td>\n",
       "      <td>1</td>\n",
       "    </tr>\n",
       "  </tbody>\n",
       "</table>\n",
       "</div>"
      ],
      "text/plain": [
       "                 Director  Episode\n",
       "9            Scott Winant        2\n",
       "10            Peter Gould        2\n",
       "11            John Shiban        1\n",
       "12         Bronwen Hughes        1\n",
       "13              John Dahl        1\n",
       "14              Jim McKay        1\n",
       "15            Peter Medak        1\n",
       "16           Phil Abraham        1\n",
       "17         George Mastras        1\n",
       "18             Sam Catlin        1\n",
       "19  F�lix Enr�quez Alcal�        1\n",
       "20            David Slade        1\n",
       "21         Thomas Schnauz        1\n",
       "22             Tim Hunter        1\n",
       "23           Tricia Brock        1\n",
       "24           Charles Haid        1"
      ]
     },
     "execution_count": 41,
     "metadata": {},
     "output_type": "execute_result"
    }
   ],
   "source": [
    "director_les_3 = director_count.reset_index()\n",
    "director_les_3.columns= [\"Director\",\"Episode\"]\n",
    "\n",
    "director_les_3 = director_les_3[director_les_3['Episode'] < 3]\n",
    "director_les_3"
   ]
  },
  {
   "cell_type": "code",
   "execution_count": 42,
   "id": "4e61df44",
   "metadata": {},
   "outputs": [
    {
     "data": {
      "text/plain": [
       "16"
      ]
     },
     "execution_count": 42,
     "metadata": {},
     "output_type": "execute_result"
    }
   ],
   "source": [
    "director_les_3[\"Director\"].count()"
   ]
  },
  {
   "cell_type": "markdown",
   "id": "85dd6525",
   "metadata": {},
   "source": [
    "#Writters count"
   ]
  },
  {
   "cell_type": "code",
   "execution_count": 43,
   "id": "95f6c06a",
   "metadata": {},
   "outputs": [
    {
     "data": {
      "text/plain": [
       "Written by\n",
       "Vince Gilligan                                          12\n",
       "Vince Gilligan, George Mastras                           7\n",
       "Vince Gilligan, Peter Gould                              7\n",
       "Vince Gilligan, Sam Catlin                               6\n",
       "Vince Gilligan, Moira Walley-Beckett                     5\n",
       "Vince Gilligan, Thomas Schnauz                           4\n",
       "Vince Gilligan, Gennifer Hutchison                       4\n",
       "Vince Gilligan, John Shiban                              3\n",
       "Vince Gilligan, Peter Gould, George Mastras              2\n",
       "Vince Gilligan, J. Roberts                               2\n",
       "Vince Gilligan, Sam Catlin, Peter Gould                  1\n",
       "Vince Gilligan, Sam Catlin, Moira Walley-Beckett         1\n",
       "Vince Gilligan, Sam Catlin, George Mastras               1\n",
       "Vince Gilligan, Patty Lin                                1\n",
       "Vince Gilligan, Peter Gould, Gennifer Hutchison          1\n",
       "Vince Gilligan, Moira Walley-Beckett, Thomas Schnauz     1\n",
       "Vince Gilligan, Moira Walley-Beckett, J. Roberts         1\n",
       "Vince Gilligan, John Shiban, Thomas Schnauz              1\n",
       "Vince Gilligan, George Mastras, Sam Catlin               1\n",
       "Vince Gilligan, Thomas Schnauz, Moira Walley-Beckett     1\n",
       "Name: Title, dtype: int64"
      ]
     },
     "execution_count": 43,
     "metadata": {},
     "output_type": "execute_result"
    }
   ],
   "source": [
    "writter_count = brba_epi.groupby(\"Written by\").Title.count().sort_values(ascending=False)\n",
    "writter_count"
   ]
  },
  {
   "cell_type": "code",
   "execution_count": 44,
   "id": "c8584120",
   "metadata": {},
   "outputs": [
    {
     "data": {
      "text/plain": [
       "20"
      ]
     },
     "execution_count": 44,
     "metadata": {},
     "output_type": "execute_result"
    }
   ],
   "source": [
    "writter_count.count()"
   ]
  },
  {
   "cell_type": "markdown",
   "id": "3cd8a6a7",
   "metadata": {},
   "source": [
    "Top 10 Writers"
   ]
  },
  {
   "cell_type": "code",
   "execution_count": 45,
   "id": "5259f79e",
   "metadata": {},
   "outputs": [
    {
     "data": {
      "text/html": [
       "<div>\n",
       "<style scoped>\n",
       "    .dataframe tbody tr th:only-of-type {\n",
       "        vertical-align: middle;\n",
       "    }\n",
       "\n",
       "    .dataframe tbody tr th {\n",
       "        vertical-align: top;\n",
       "    }\n",
       "\n",
       "    .dataframe thead th {\n",
       "        text-align: right;\n",
       "    }\n",
       "</style>\n",
       "<table border=\"1\" class=\"dataframe\">\n",
       "  <thead>\n",
       "    <tr style=\"text-align: right;\">\n",
       "      <th></th>\n",
       "      <th>Written by</th>\n",
       "      <th>Title</th>\n",
       "    </tr>\n",
       "  </thead>\n",
       "  <tbody>\n",
       "    <tr>\n",
       "      <th>0</th>\n",
       "      <td>Vince Gilligan</td>\n",
       "      <td>12</td>\n",
       "    </tr>\n",
       "    <tr>\n",
       "      <th>1</th>\n",
       "      <td>Vince Gilligan, George Mastras</td>\n",
       "      <td>7</td>\n",
       "    </tr>\n",
       "    <tr>\n",
       "      <th>2</th>\n",
       "      <td>Vince Gilligan, Peter Gould</td>\n",
       "      <td>7</td>\n",
       "    </tr>\n",
       "    <tr>\n",
       "      <th>3</th>\n",
       "      <td>Vince Gilligan, Sam Catlin</td>\n",
       "      <td>6</td>\n",
       "    </tr>\n",
       "    <tr>\n",
       "      <th>4</th>\n",
       "      <td>Vince Gilligan, Moira Walley-Beckett</td>\n",
       "      <td>5</td>\n",
       "    </tr>\n",
       "    <tr>\n",
       "      <th>5</th>\n",
       "      <td>Vince Gilligan, Thomas Schnauz</td>\n",
       "      <td>4</td>\n",
       "    </tr>\n",
       "    <tr>\n",
       "      <th>6</th>\n",
       "      <td>Vince Gilligan, Gennifer Hutchison</td>\n",
       "      <td>4</td>\n",
       "    </tr>\n",
       "    <tr>\n",
       "      <th>7</th>\n",
       "      <td>Vince Gilligan, John Shiban</td>\n",
       "      <td>3</td>\n",
       "    </tr>\n",
       "    <tr>\n",
       "      <th>8</th>\n",
       "      <td>Vince Gilligan, Peter Gould, George Mastras</td>\n",
       "      <td>2</td>\n",
       "    </tr>\n",
       "    <tr>\n",
       "      <th>9</th>\n",
       "      <td>Vince Gilligan, J. Roberts</td>\n",
       "      <td>2</td>\n",
       "    </tr>\n",
       "  </tbody>\n",
       "</table>\n",
       "</div>"
      ],
      "text/plain": [
       "                                    Written by  Title\n",
       "0                               Vince Gilligan     12\n",
       "1               Vince Gilligan, George Mastras      7\n",
       "2                  Vince Gilligan, Peter Gould      7\n",
       "3                   Vince Gilligan, Sam Catlin      6\n",
       "4         Vince Gilligan, Moira Walley-Beckett      5\n",
       "5               Vince Gilligan, Thomas Schnauz      4\n",
       "6           Vince Gilligan, Gennifer Hutchison      4\n",
       "7                  Vince Gilligan, John Shiban      3\n",
       "8  Vince Gilligan, Peter Gould, George Mastras      2\n",
       "9                   Vince Gilligan, J. Roberts      2"
      ]
     },
     "execution_count": 45,
     "metadata": {},
     "output_type": "execute_result"
    }
   ],
   "source": [
    "top10_wri = writter_count.head(10).reset_index()\n",
    "top10_wri"
   ]
  },
  {
   "cell_type": "code",
   "execution_count": 46,
   "id": "563e9f80",
   "metadata": {},
   "outputs": [
    {
     "data": {
      "text/plain": [
       "Text(0, 0.5, 'No Of Episodes')"
      ]
     },
     "execution_count": 46,
     "metadata": {},
     "output_type": "execute_result"
    },
    {
     "data": {
      "image/png": "[encoded data removed]",
      "text/plain": [
       "<Figure size 1440x720 with 1 Axes>"
      ]
     },
     "metadata": {
      "needs_background": "light"
     },
     "output_type": "display_data"
    }
   ],
   "source": [
    "plt.figure(figsize=(20,10))\n",
    "sns.barplot(x=top10_wri['Written by'], y=top10_wri['Title'], palette='Blues')\n",
    "plt.title('Top 10 Writers', fontsize=0.2)\n",
    "plt.xlabel('Directed By')\n",
    "plt.ylabel('No Of Episodes')"
   ]
  },
  {
   "cell_type": "markdown",
   "id": "585e0d8c",
   "metadata": {},
   "source": [
    "#writter who has directed less than 3 episodes"
   ]
  },
  {
   "cell_type": "code",
   "execution_count": 47,
   "id": "7d54c289",
   "metadata": {},
   "outputs": [
    {
     "data": {
      "text/html": [
       "<div>\n",
       "<style scoped>\n",
       "    .dataframe tbody tr th:only-of-type {\n",
       "        vertical-align: middle;\n",
       "    }\n",
       "\n",
       "    .dataframe tbody tr th {\n",
       "        vertical-align: top;\n",
       "    }\n",
       "\n",
       "    .dataframe thead th {\n",
       "        text-align: right;\n",
       "    }\n",
       "</style>\n",
       "<table border=\"1\" class=\"dataframe\">\n",
       "  <thead>\n",
       "    <tr style=\"text-align: right;\">\n",
       "      <th></th>\n",
       "      <th>Written by</th>\n",
       "      <th>Episode</th>\n",
       "    </tr>\n",
       "  </thead>\n",
       "  <tbody>\n",
       "    <tr>\n",
       "      <th>8</th>\n",
       "      <td>Vince Gilligan, Peter Gould, George Mastras</td>\n",
       "      <td>2</td>\n",
       "    </tr>\n",
       "    <tr>\n",
       "      <th>9</th>\n",
       "      <td>Vince Gilligan, J. Roberts</td>\n",
       "      <td>2</td>\n",
       "    </tr>\n",
       "    <tr>\n",
       "      <th>10</th>\n",
       "      <td>Vince Gilligan, Sam Catlin, Peter Gould</td>\n",
       "      <td>1</td>\n",
       "    </tr>\n",
       "    <tr>\n",
       "      <th>11</th>\n",
       "      <td>Vince Gilligan, Sam Catlin, Moira Walley-Beckett</td>\n",
       "      <td>1</td>\n",
       "    </tr>\n",
       "    <tr>\n",
       "      <th>12</th>\n",
       "      <td>Vince Gilligan, Sam Catlin, George Mastras</td>\n",
       "      <td>1</td>\n",
       "    </tr>\n",
       "    <tr>\n",
       "      <th>13</th>\n",
       "      <td>Vince Gilligan, Patty Lin</td>\n",
       "      <td>1</td>\n",
       "    </tr>\n",
       "    <tr>\n",
       "      <th>14</th>\n",
       "      <td>Vince Gilligan, Peter Gould, Gennifer Hutchison</td>\n",
       "      <td>1</td>\n",
       "    </tr>\n",
       "    <tr>\n",
       "      <th>15</th>\n",
       "      <td>Vince Gilligan, Moira Walley-Beckett, Thomas S...</td>\n",
       "      <td>1</td>\n",
       "    </tr>\n",
       "    <tr>\n",
       "      <th>16</th>\n",
       "      <td>Vince Gilligan, Moira Walley-Beckett, J. Roberts</td>\n",
       "      <td>1</td>\n",
       "    </tr>\n",
       "    <tr>\n",
       "      <th>17</th>\n",
       "      <td>Vince Gilligan, John Shiban, Thomas Schnauz</td>\n",
       "      <td>1</td>\n",
       "    </tr>\n",
       "    <tr>\n",
       "      <th>18</th>\n",
       "      <td>Vince Gilligan, George Mastras, Sam Catlin</td>\n",
       "      <td>1</td>\n",
       "    </tr>\n",
       "    <tr>\n",
       "      <th>19</th>\n",
       "      <td>Vince Gilligan, Thomas Schnauz, Moira Walley-B...</td>\n",
       "      <td>1</td>\n",
       "    </tr>\n",
       "  </tbody>\n",
       "</table>\n",
       "</div>"
      ],
      "text/plain": [
       "                                           Written by  Episode\n",
       "8         Vince Gilligan, Peter Gould, George Mastras        2\n",
       "9                          Vince Gilligan, J. Roberts        2\n",
       "10            Vince Gilligan, Sam Catlin, Peter Gould        1\n",
       "11   Vince Gilligan, Sam Catlin, Moira Walley-Beckett        1\n",
       "12         Vince Gilligan, Sam Catlin, George Mastras        1\n",
       "13                          Vince Gilligan, Patty Lin        1\n",
       "14    Vince Gilligan, Peter Gould, Gennifer Hutchison        1\n",
       "15  Vince Gilligan, Moira Walley-Beckett, Thomas S...        1\n",
       "16   Vince Gilligan, Moira Walley-Beckett, J. Roberts        1\n",
       "17        Vince Gilligan, John Shiban, Thomas Schnauz        1\n",
       "18         Vince Gilligan, George Mastras, Sam Catlin        1\n",
       "19  Vince Gilligan, Thomas Schnauz, Moira Walley-B...        1"
      ]
     },
     "execution_count": 47,
     "metadata": {},
     "output_type": "execute_result"
    }
   ],
   "source": [
    "writter_les_3 = writter_count.reset_index()\n",
    "writter_les_3.columns= [\"Written by\",\"Episode\"]\n",
    "\n",
    "writter_les_3 = writter_les_3[writter_les_3['Episode'] < 3]\n",
    "writter_les_3"
   ]
  },
  {
   "cell_type": "code",
   "execution_count": 48,
   "id": "03047a5f",
   "metadata": {},
   "outputs": [
    {
     "data": {
      "text/plain": [
       "12"
      ]
     },
     "execution_count": 48,
     "metadata": {},
     "output_type": "execute_result"
    }
   ],
   "source": [
    "writter_les_3[\"Written by\"].count()"
   ]
  },
  {
   "cell_type": "markdown",
   "id": "30b9b546",
   "metadata": {},
   "source": [
    "# BrBa characters"
   ]
  },
  {
   "cell_type": "code",
   "execution_count": 49,
   "id": "a9d807c1",
   "metadata": {},
   "outputs": [
    {
     "data": {
      "text/html": [
       "<div>\n",
       "<style scoped>\n",
       "    .dataframe tbody tr th:only-of-type {\n",
       "        vertical-align: middle;\n",
       "    }\n",
       "\n",
       "    .dataframe tbody tr th {\n",
       "        vertical-align: top;\n",
       "    }\n",
       "\n",
       "    .dataframe thead th {\n",
       "        text-align: right;\n",
       "    }\n",
       "</style>\n",
       "<table border=\"1\" class=\"dataframe\">\n",
       "  <thead>\n",
       "    <tr style=\"text-align: right;\">\n",
       "      <th></th>\n",
       "      <th>episode_id</th>\n",
       "      <th>title</th>\n",
       "      <th>season</th>\n",
       "      <th>air_date</th>\n",
       "      <th>characters</th>\n",
       "      <th>episode</th>\n",
       "      <th>series</th>\n",
       "      <th>Characters</th>\n",
       "      <th>Episodes_appeared</th>\n",
       "    </tr>\n",
       "  </thead>\n",
       "  <tbody>\n",
       "    <tr>\n",
       "      <th>0</th>\n",
       "      <td>1</td>\n",
       "      <td>Pilot</td>\n",
       "      <td>1</td>\n",
       "      <td>01-20-2008</td>\n",
       "      <td>Walter White, Jesse Pinkman, Skyler White, Han...</td>\n",
       "      <td>1</td>\n",
       "      <td>Breaking Bad</td>\n",
       "      <td>Walter white</td>\n",
       "      <td>62.0</td>\n",
       "    </tr>\n",
       "    <tr>\n",
       "      <th>1</th>\n",
       "      <td>2</td>\n",
       "      <td>Cat's in the Bag...</td>\n",
       "      <td>1</td>\n",
       "      <td>01-27-2008</td>\n",
       "      <td>Walter White, Jesse Pinkman, Skyler White, Wal...</td>\n",
       "      <td>2</td>\n",
       "      <td>Breaking Bad</td>\n",
       "      <td>skyler white</td>\n",
       "      <td>62.0</td>\n",
       "    </tr>\n",
       "    <tr>\n",
       "      <th>2</th>\n",
       "      <td>3</td>\n",
       "      <td>...And the Bag's in the River</td>\n",
       "      <td>1</td>\n",
       "      <td>02/10/08</td>\n",
       "      <td>Walter White, Jesse Pinkman, Skyler White, Han...</td>\n",
       "      <td>3</td>\n",
       "      <td>Breaking Bad</td>\n",
       "      <td>jesse pinkman</td>\n",
       "      <td>62.0</td>\n",
       "    </tr>\n",
       "    <tr>\n",
       "      <th>3</th>\n",
       "      <td>4</td>\n",
       "      <td>Cancer Man</td>\n",
       "      <td>1</td>\n",
       "      <td>02-17-2008</td>\n",
       "      <td>Walter White, Jesse Pinkman, Skyler White, Han...</td>\n",
       "      <td>4</td>\n",
       "      <td>Breaking Bad</td>\n",
       "      <td>marie schrader</td>\n",
       "      <td>62.0</td>\n",
       "    </tr>\n",
       "    <tr>\n",
       "      <th>4</th>\n",
       "      <td>5</td>\n",
       "      <td>Gray Matter</td>\n",
       "      <td>1</td>\n",
       "      <td>02-24-2008</td>\n",
       "      <td>Walter White, Jesse Pinkman, Skyler White, Han...</td>\n",
       "      <td>5</td>\n",
       "      <td>Breaking Bad</td>\n",
       "      <td>Walter white jr</td>\n",
       "      <td>62.0</td>\n",
       "    </tr>\n",
       "    <tr>\n",
       "      <th>...</th>\n",
       "      <td>...</td>\n",
       "      <td>...</td>\n",
       "      <td>...</td>\n",
       "      <td>...</td>\n",
       "      <td>...</td>\n",
       "      <td>...</td>\n",
       "      <td>...</td>\n",
       "      <td>...</td>\n",
       "      <td>...</td>\n",
       "    </tr>\n",
       "    <tr>\n",
       "      <th>97</th>\n",
       "      <td>98</td>\n",
       "      <td>Pinata</td>\n",
       "      <td>4</td>\n",
       "      <td>09/10/18</td>\n",
       "      <td>Jimmy McGill, Mike Erhmantraut, Kim Wexler, Ho...</td>\n",
       "      <td>6</td>\n",
       "      <td>Better Call Saul</td>\n",
       "      <td>NaN</td>\n",
       "      <td>NaN</td>\n",
       "    </tr>\n",
       "    <tr>\n",
       "      <th>98</th>\n",
       "      <td>99</td>\n",
       "      <td>Something Stupid</td>\n",
       "      <td>4</td>\n",
       "      <td>09-17-2018</td>\n",
       "      <td>Jimmy McGill, Mike Erhmantraut, Kim Wexler, Ho...</td>\n",
       "      <td>7</td>\n",
       "      <td>Better Call Saul</td>\n",
       "      <td>NaN</td>\n",
       "      <td>NaN</td>\n",
       "    </tr>\n",
       "    <tr>\n",
       "      <th>99</th>\n",
       "      <td>100</td>\n",
       "      <td>Coushatta</td>\n",
       "      <td>4</td>\n",
       "      <td>09-24-2018</td>\n",
       "      <td>Jimmy McGill, Mike Erhmantraut, Kim Wexler, Ho...</td>\n",
       "      <td>8</td>\n",
       "      <td>Better Call Saul</td>\n",
       "      <td>NaN</td>\n",
       "      <td>NaN</td>\n",
       "    </tr>\n",
       "    <tr>\n",
       "      <th>100</th>\n",
       "      <td>101</td>\n",
       "      <td>Wiedersehen</td>\n",
       "      <td>4</td>\n",
       "      <td>10/01/18</td>\n",
       "      <td>Jimmy McGill, Mike Erhmantraut, Kim Wexler, Ho...</td>\n",
       "      <td>9</td>\n",
       "      <td>Better Call Saul</td>\n",
       "      <td>NaN</td>\n",
       "      <td>NaN</td>\n",
       "    </tr>\n",
       "    <tr>\n",
       "      <th>101</th>\n",
       "      <td>102</td>\n",
       "      <td>Winner</td>\n",
       "      <td>4</td>\n",
       "      <td>10/08/18</td>\n",
       "      <td>Jimmy McGill, Mike Erhmantraut, Kim Wexler, Ho...</td>\n",
       "      <td>10</td>\n",
       "      <td>Better Call Saul</td>\n",
       "      <td>NaN</td>\n",
       "      <td>NaN</td>\n",
       "    </tr>\n",
       "  </tbody>\n",
       "</table>\n",
       "<p>102 rows × 9 columns</p>\n",
       "</div>"
      ],
      "text/plain": [
       "     episode_id                          title  season    air_date  \\\n",
       "0             1                          Pilot       1  01-20-2008   \n",
       "1             2            Cat's in the Bag...       1  01-27-2008   \n",
       "2             3  ...And the Bag's in the River       1    02/10/08   \n",
       "3             4                     Cancer Man       1  02-17-2008   \n",
       "4             5                    Gray Matter       1  02-24-2008   \n",
       "..          ...                            ...     ...         ...   \n",
       "97           98                         Pinata       4    09/10/18   \n",
       "98           99               Something Stupid       4  09-17-2018   \n",
       "99          100                      Coushatta       4  09-24-2018   \n",
       "100         101                    Wiedersehen       4    10/01/18   \n",
       "101         102                         Winner       4    10/08/18   \n",
       "\n",
       "                                            characters  episode  \\\n",
       "0    Walter White, Jesse Pinkman, Skyler White, Han...        1   \n",
       "1    Walter White, Jesse Pinkman, Skyler White, Wal...        2   \n",
       "2    Walter White, Jesse Pinkman, Skyler White, Han...        3   \n",
       "3    Walter White, Jesse Pinkman, Skyler White, Han...        4   \n",
       "4    Walter White, Jesse Pinkman, Skyler White, Han...        5   \n",
       "..                                                 ...      ...   \n",
       "97   Jimmy McGill, Mike Erhmantraut, Kim Wexler, Ho...        6   \n",
       "98   Jimmy McGill, Mike Erhmantraut, Kim Wexler, Ho...        7   \n",
       "99   Jimmy McGill, Mike Erhmantraut, Kim Wexler, Ho...        8   \n",
       "100  Jimmy McGill, Mike Erhmantraut, Kim Wexler, Ho...        9   \n",
       "101  Jimmy McGill, Mike Erhmantraut, Kim Wexler, Ho...       10   \n",
       "\n",
       "               series       Characters  Episodes_appeared  \n",
       "0        Breaking Bad     Walter white               62.0  \n",
       "1        Breaking Bad     skyler white               62.0  \n",
       "2        Breaking Bad    jesse pinkman               62.0  \n",
       "3        Breaking Bad   marie schrader               62.0  \n",
       "4        Breaking Bad  Walter white jr               62.0  \n",
       "..                ...              ...                ...  \n",
       "97   Better Call Saul              NaN                NaN  \n",
       "98   Better Call Saul              NaN                NaN  \n",
       "99   Better Call Saul              NaN                NaN  \n",
       "100  Better Call Saul              NaN                NaN  \n",
       "101  Better Call Saul              NaN                NaN  \n",
       "\n",
       "[102 rows x 9 columns]"
      ]
     },
     "execution_count": 49,
     "metadata": {},
     "output_type": "execute_result"
    }
   ],
   "source": [
    "brba_char"
   ]
  },
  {
   "cell_type": "markdown",
   "id": "007ceebe",
   "metadata": {},
   "source": [
    "#Most Appearance By Characters"
   ]
  },
  {
   "cell_type": "code",
   "execution_count": 50,
   "id": "b4921d27",
   "metadata": {},
   "outputs": [
    {
     "data": {
      "text/html": [
       "<div>\n",
       "<style scoped>\n",
       "    .dataframe tbody tr th:only-of-type {\n",
       "        vertical-align: middle;\n",
       "    }\n",
       "\n",
       "    .dataframe tbody tr th {\n",
       "        vertical-align: top;\n",
       "    }\n",
       "\n",
       "    .dataframe thead th {\n",
       "        text-align: right;\n",
       "    }\n",
       "</style>\n",
       "<table border=\"1\" class=\"dataframe\">\n",
       "  <thead>\n",
       "    <tr style=\"text-align: right;\">\n",
       "      <th></th>\n",
       "      <th>Characters</th>\n",
       "      <th>Episodes_appeared</th>\n",
       "    </tr>\n",
       "  </thead>\n",
       "  <tbody>\n",
       "    <tr>\n",
       "      <th>0</th>\n",
       "      <td>Walter white</td>\n",
       "      <td>62.0</td>\n",
       "    </tr>\n",
       "    <tr>\n",
       "      <th>1</th>\n",
       "      <td>skyler white</td>\n",
       "      <td>62.0</td>\n",
       "    </tr>\n",
       "    <tr>\n",
       "      <th>2</th>\n",
       "      <td>jesse pinkman</td>\n",
       "      <td>62.0</td>\n",
       "    </tr>\n",
       "    <tr>\n",
       "      <th>3</th>\n",
       "      <td>marie schrader</td>\n",
       "      <td>62.0</td>\n",
       "    </tr>\n",
       "    <tr>\n",
       "      <th>4</th>\n",
       "      <td>Walter white jr</td>\n",
       "      <td>62.0</td>\n",
       "    </tr>\n",
       "    <tr>\n",
       "      <th>5</th>\n",
       "      <td>hank schrader</td>\n",
       "      <td>62.0</td>\n",
       "    </tr>\n",
       "    <tr>\n",
       "      <th>6</th>\n",
       "      <td>saul goodman</td>\n",
       "      <td>43.0</td>\n",
       "    </tr>\n",
       "    <tr>\n",
       "      <th>7</th>\n",
       "      <td>steven gomez</td>\n",
       "      <td>33.0</td>\n",
       "    </tr>\n",
       "    <tr>\n",
       "      <th>8</th>\n",
       "      <td>mike ehrmantraut</td>\n",
       "      <td>28.0</td>\n",
       "    </tr>\n",
       "    <tr>\n",
       "      <th>9</th>\n",
       "      <td>gus fring</td>\n",
       "      <td>26.0</td>\n",
       "    </tr>\n",
       "    <tr>\n",
       "      <th>10</th>\n",
       "      <td>skinny pete</td>\n",
       "      <td>15.0</td>\n",
       "    </tr>\n",
       "    <tr>\n",
       "      <th>11</th>\n",
       "      <td>todd</td>\n",
       "      <td>13.0</td>\n",
       "    </tr>\n",
       "    <tr>\n",
       "      <th>12</th>\n",
       "      <td>ted beneke</td>\n",
       "      <td>13.0</td>\n",
       "    </tr>\n",
       "    <tr>\n",
       "      <th>13</th>\n",
       "      <td>lydia</td>\n",
       "      <td>12.0</td>\n",
       "    </tr>\n",
       "    <tr>\n",
       "      <th>14</th>\n",
       "      <td>badger</td>\n",
       "      <td>12.0</td>\n",
       "    </tr>\n",
       "  </tbody>\n",
       "</table>\n",
       "</div>"
      ],
      "text/plain": [
       "          Characters  Episodes_appeared\n",
       "0       Walter white               62.0\n",
       "1       skyler white               62.0\n",
       "2      jesse pinkman               62.0\n",
       "3     marie schrader               62.0\n",
       "4    Walter white jr               62.0\n",
       "5      hank schrader               62.0\n",
       "6       saul goodman               43.0\n",
       "7       steven gomez               33.0\n",
       "8   mike ehrmantraut               28.0\n",
       "9          gus fring               26.0\n",
       "10       skinny pete               15.0\n",
       "11              todd               13.0\n",
       "12        ted beneke               13.0\n",
       "13             lydia               12.0\n",
       "14            badger               12.0"
      ]
     },
     "execution_count": 50,
     "metadata": {},
     "output_type": "execute_result"
    }
   ],
   "source": [
    "brba_char_pop = brba_char[['Characters','Episodes_appeared']].sort_values('Episodes_appeared', ascending=False).head(15).reset_index(drop=True)\n",
    "brba_char_pop"
   ]
  },
  {
   "cell_type": "code",
   "execution_count": 51,
   "id": "112ab3c9",
   "metadata": {},
   "outputs": [
    {
     "data": {
      "image/png": "[encoded data removed]",
      "text/plain": [
       "<Figure size 720x504 with 1 Axes>"
      ]
     },
     "metadata": {
      "needs_background": "light"
     },
     "output_type": "display_data"
    }
   ],
   "source": [
    "plt.figure(figsize=(10,7))\n",
    "sns.barplot(y=brba_char_pop.Characters, x=brba_char_pop.Episodes_appeared, palette='magma', orient='h')\n",
    "plt.title('Most Appearance By Character', fontsize=15)\n",
    "plt.xlabel('Character')\n",
    "plt.ylabel('Episodes')\n",
    "plt.xticks(fontsize=12)\n",
    "plt.yticks(fontsize=12);"
   ]
  },
  {
   "cell_type": "code",
   "execution_count": 52,
   "id": "934636ae",
   "metadata": {},
   "outputs": [
    {
     "data": {
      "text/plain": [
       "62.0    6\n",
       "43.0    1\n",
       "33.0    1\n",
       "28.0    1\n",
       "26.0    1\n",
       "15.0    1\n",
       "13.0    2\n",
       "12.0    2\n",
       "11.0    2\n",
       "10.0    1\n",
       "9.0     4\n",
       "8.0     3\n",
       "7.0     4\n",
       "6.0     2\n",
       "5.0     9\n",
       "Name: Episodes_appeared, dtype: int64"
      ]
     },
     "execution_count": 52,
     "metadata": {},
     "output_type": "execute_result"
    }
   ],
   "source": [
    "#just a try\n",
    "brba_char['Episodes_appeared'].value_counts().sort_index(ascending=False)"
   ]
  },
  {
   "cell_type": "markdown",
   "id": "d599e860",
   "metadata": {},
   "source": [
    "# Heatmap"
   ]
  },
  {
   "cell_type": "code",
   "execution_count": 54,
   "id": "9df8dbc0",
   "metadata": {},
   "outputs": [
    {
     "data": {
      "image/png": "[encoded data removed]",
      "text/plain": [
       "<Figure size 720x576 with 2 Axes>"
      ]
     },
     "metadata": {
      "needs_background": "light"
     },
     "output_type": "display_data"
    }
   ],
   "source": [
    "plt.figure(figsize=(10,8))\n",
    "sns.heatmap(brba_epi.corr(),annot=True);"
   ]
  },
  {
   "cell_type": "code",
   "execution_count": 55,
   "id": "1888bbc6",
   "metadata": {},
   "outputs": [
    {
     "data": {
      "image/png": "[encoded data removed]",
      "text/plain": [
       "<Figure size 720x576 with 2 Axes>"
      ]
     },
     "metadata": {
      "needs_background": "light"
     },
     "output_type": "display_data"
    }
   ],
   "source": [
    "plt.figure(figsize=(10,8))\n",
    "sns.heatmap(brba_char.corr(),annot=True);"
   ]
  },
  {
   "cell_type": "code",
   "execution_count": null,
   "id": "cedddd8e",
   "metadata": {},
   "outputs": [],
   "source": []
  }
 ],
 "metadata": {
  "kernelspec": {
   "display_name": "Python 3",
   "language": "python",
   "name": "python3"
  },
  "language_info": {
   "codemirror_mode": {
    "name": "ipython",
    "version": 3
   },
   "file_extension": ".py",
   "mimetype": "text/x-python",
   "name": "python",
   "nbconvert_exporter": "python",
   "pygments_lexer": "ipython3",
   "version": "3.8.8"
  }
 },
 "nbformat": 4,
 "nbformat_minor": 5
}
